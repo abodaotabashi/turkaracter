{
 "cells": [
  {
   "cell_type": "markdown",
   "metadata": {},
   "source": [
    "<div align=\"center\">\n",
    "\n",
    "<p align=\"center\"> \n",
    "    <img\n",
    "        src=\"./Assets/Turkaracter Logo.png\"\n",
    "        raw=true\n",
    "        alt=\"turkaracter_Logo\"\n",
    "        style=\"width: 128px; height: 128px\" />\n",
    "</p>\n",
    "\n",
    "# TurKaracter: Entwicklung eines Erkennungssystems von türkischen Handschriften unter Verwendung von künstlichen neuronalen Netzwerken\n",
    "### Bachelor Abschlussarbeit von Abdurrahman ODABAŞI\n",
    "### Betreuer: Dr. Ahmet YILDIZ (Türkisch-Deutsche Universität)\n",
    "### Industriepartner: BIS Çözüm Bilgisayar ve Entegrasyon Hiz. ve Tic. A.Ş.\n",
    "#### Bearbeitungszeitraum 04.11.2021 - 20.06.2022\n",
    "\n",
    "</div>"
   ]
  },
  {
   "cell_type": "markdown",
   "metadata": {},
   "source": [
    "## 0. Imports & Setup"
   ]
  },
  {
   "cell_type": "code",
   "execution_count": 2,
   "metadata": {},
   "outputs": [],
   "source": [
    "import matplotlib.pyplot as plt\n",
    "import pandas as pd\n",
    "import numpy as np\n",
    "import seaborn as sns\n",
    "import os\n",
    "import cv2\n",
    "from PIL import Image\n",
    "from sklearn.model_selection import StratifiedShuffleSplit\n",
    "from sklearn.utils import shuffle\n",
    "\n",
    "\n",
    "# TensorFlow ≥2.0 is required\n",
    "import tensorflow as tf\n",
    "from tensorflow import keras\n",
    "assert tf.__version__ >= \"2.0\"\n",
    "\n",
    "# to make this notebook's output stable across runs\n",
    "np.random.seed(42)\n",
    "tf.random.set_seed(42)\n",
    "\n",
    "# To plot pretty figures\n",
    "%matplotlib inline\n",
    "import matplotlib as mpl\n",
    "import matplotlib.pyplot as plt\n",
    "mpl.rc('axes', labelsize=14)\n",
    "mpl.rc('xtick', labelsize=12)\n",
    "mpl.rc('ytick', labelsize=12)"
   ]
  },
  {
   "cell_type": "markdown",
   "metadata": {},
   "source": [
    "### 0.1. Helper Functions"
   ]
  },
  {
   "cell_type": "markdown",
   "metadata": {},
   "source": [
    "#### 0.1.1. Save the Figures"
   ]
  },
  {
   "cell_type": "code",
   "execution_count": 3,
   "metadata": {},
   "outputs": [],
   "source": [
    "# Where to save the figures\n",
    "PROJECT_ROOT_DIR = \".\"\n",
    "IMAGES_PATH = os.path.join(PROJECT_ROOT_DIR, \"images\")\n",
    "os.makedirs(IMAGES_PATH, exist_ok=True)\n",
    "\n",
    "def save_fig(fig_id, tight_layout=True, fig_extension=\"png\", resolution=300):\n",
    "    path = os.path.join(IMAGES_PATH, fig_id + \".\" + fig_extension)\n",
    "    print(\"Saving figure\", fig_id)\n",
    "    if tight_layout:\n",
    "        plt.tight_layout()\n",
    "    plt.savefig(path, format=fig_extension, dpi=resolution)"
   ]
  },
  {
   "cell_type": "markdown",
   "metadata": {},
   "source": [
    "#### 0.1.2. Label to Actual Value (Decoding)"
   ]
  },
  {
   "cell_type": "code",
   "execution_count": 4,
   "metadata": {},
   "outputs": [],
   "source": [
    "def decodeLabel(value):\n",
    "    if value <= 9:\n",
    "        return(chr(value+48))\n",
    "    elif value > 9 and value < 36:\n",
    "        return(chr(value+55))\n",
    "    elif value > 35 and value < 62:\n",
    "        return(chr(value+61))\n",
    "    elif value > 61 and value < 72:\n",
    "        turkishDecoder = {\n",
    "            62:286 , #Ğ\n",
    "            63:304 , #İ\n",
    "            64:214 , #Ö\n",
    "            65:220 , #Ü\n",
    "            66:231 , #ç\n",
    "            67:287 , #ğ\n",
    "            68:305 , #ı\n",
    "            69:246 , #ö\n",
    "            70:351 , #ş\n",
    "            71:252  #ü\n",
    "        }\n",
    "        return (chr(turkishDecoder.get(value)))\n",
    "    # elif value > 71:\n",
    "    #     # Labels for punctuation marks\n",
    "    #     return 0"
   ]
  },
  {
   "cell_type": "markdown",
   "metadata": {},
   "source": [
    "#### 0.1.3. Display the Image in the notebook instead of independent window (With the help of Matplotlib)"
   ]
  },
  {
   "cell_type": "code",
   "execution_count": 5,
   "metadata": {},
   "outputs": [],
   "source": [
    "def displayImage(image): #Gray_Image with one Channel\n",
    "    dpi = 80\n",
    "    height, width = image.shape\n",
    "    # What Size does the figure need to be in inches to fit the image\n",
    "    figSize = width/float(dpi), height/float(dpi)\n",
    "\n",
    "    fig = plt.figure(figsize=figSize)\n",
    "    ax = fig.add_axes([0,0,1,1])\n",
    "    ax.axis('off')\n",
    "\n",
    "    ax.imshow(image, cmap=\"gray\")\n",
    "    plt.show()\n",
    "\n",
    "def displayColouredImage(image):\n",
    "    dpi = 80\n",
    "    rgb_image = cv2.cvtColor(image.copy(), cv2.COLOR_BGR2RGB)\n",
    "    height, width, depth = rgb_image.shape\n",
    "    # What Size does the figure need to be in inches to fit the image\n",
    "    figSize = width/float(dpi), height/float(dpi)\n",
    "\n",
    "    fig = plt.figure(figsize=figSize)\n",
    "    ax = fig.add_axes([0,0,1,1])\n",
    "    ax.axis('off')\n",
    "\n",
    "    ax.imshow(rgb_image, cmap=\"gray\")\n",
    "    plt.show()"
   ]
  },
  {
   "cell_type": "markdown",
   "metadata": {},
   "source": [
    "## 1. Datasets Loading"
   ]
  },
  {
   "cell_type": "markdown",
   "metadata": {},
   "source": [
    "### 1.0. EMNIST"
   ]
  },
  {
   "cell_type": "code",
   "execution_count": null,
   "metadata": {},
   "outputs": [
    {
     "name": "stdout",
     "output_type": "stream",
     "text": [
      "Shape of Training dataset:  (697932, 785)\n"
     ]
    },
    {
     "data": {
      "text/html": [
       "<div>\n",
       "<style scoped>\n",
       "    .dataframe tbody tr th:only-of-type {\n",
       "        vertical-align: middle;\n",
       "    }\n",
       "\n",
       "    .dataframe tbody tr th {\n",
       "        vertical-align: top;\n",
       "    }\n",
       "\n",
       "    .dataframe thead th {\n",
       "        text-align: right;\n",
       "    }\n",
       "</style>\n",
       "<table border=\"1\" class=\"dataframe\">\n",
       "  <thead>\n",
       "    <tr style=\"text-align: right;\">\n",
       "      <th></th>\n",
       "      <th>Label</th>\n",
       "      <th>Pixel1</th>\n",
       "      <th>Pixel2</th>\n",
       "      <th>Pixel3</th>\n",
       "      <th>Pixel4</th>\n",
       "      <th>Pixel5</th>\n",
       "      <th>Pixel6</th>\n",
       "      <th>Pixel7</th>\n",
       "      <th>Pixel8</th>\n",
       "      <th>Pixel9</th>\n",
       "      <th>...</th>\n",
       "      <th>Pixel775</th>\n",
       "      <th>Pixel776</th>\n",
       "      <th>Pixel777</th>\n",
       "      <th>Pixel778</th>\n",
       "      <th>Pixel779</th>\n",
       "      <th>Pixel780</th>\n",
       "      <th>Pixel781</th>\n",
       "      <th>Pixel782</th>\n",
       "      <th>Pixel783</th>\n",
       "      <th>Pixel784</th>\n",
       "    </tr>\n",
       "  </thead>\n",
       "  <tbody>\n",
       "    <tr>\n",
       "      <th>0</th>\n",
       "      <td>35</td>\n",
       "      <td>0</td>\n",
       "      <td>0</td>\n",
       "      <td>0</td>\n",
       "      <td>0</td>\n",
       "      <td>0</td>\n",
       "      <td>0</td>\n",
       "      <td>0</td>\n",
       "      <td>0</td>\n",
       "      <td>0</td>\n",
       "      <td>...</td>\n",
       "      <td>0</td>\n",
       "      <td>0</td>\n",
       "      <td>0</td>\n",
       "      <td>0</td>\n",
       "      <td>0</td>\n",
       "      <td>0</td>\n",
       "      <td>0</td>\n",
       "      <td>0</td>\n",
       "      <td>0</td>\n",
       "      <td>0</td>\n",
       "    </tr>\n",
       "    <tr>\n",
       "      <th>1</th>\n",
       "      <td>36</td>\n",
       "      <td>0</td>\n",
       "      <td>0</td>\n",
       "      <td>0</td>\n",
       "      <td>0</td>\n",
       "      <td>0</td>\n",
       "      <td>0</td>\n",
       "      <td>0</td>\n",
       "      <td>0</td>\n",
       "      <td>0</td>\n",
       "      <td>...</td>\n",
       "      <td>0</td>\n",
       "      <td>0</td>\n",
       "      <td>0</td>\n",
       "      <td>0</td>\n",
       "      <td>0</td>\n",
       "      <td>0</td>\n",
       "      <td>0</td>\n",
       "      <td>0</td>\n",
       "      <td>0</td>\n",
       "      <td>0</td>\n",
       "    </tr>\n",
       "    <tr>\n",
       "      <th>2</th>\n",
       "      <td>6</td>\n",
       "      <td>0</td>\n",
       "      <td>0</td>\n",
       "      <td>0</td>\n",
       "      <td>0</td>\n",
       "      <td>0</td>\n",
       "      <td>0</td>\n",
       "      <td>0</td>\n",
       "      <td>0</td>\n",
       "      <td>0</td>\n",
       "      <td>...</td>\n",
       "      <td>0</td>\n",
       "      <td>0</td>\n",
       "      <td>0</td>\n",
       "      <td>0</td>\n",
       "      <td>0</td>\n",
       "      <td>0</td>\n",
       "      <td>0</td>\n",
       "      <td>0</td>\n",
       "      <td>0</td>\n",
       "      <td>0</td>\n",
       "    </tr>\n",
       "    <tr>\n",
       "      <th>3</th>\n",
       "      <td>3</td>\n",
       "      <td>0</td>\n",
       "      <td>0</td>\n",
       "      <td>0</td>\n",
       "      <td>0</td>\n",
       "      <td>0</td>\n",
       "      <td>0</td>\n",
       "      <td>0</td>\n",
       "      <td>0</td>\n",
       "      <td>0</td>\n",
       "      <td>...</td>\n",
       "      <td>0</td>\n",
       "      <td>0</td>\n",
       "      <td>0</td>\n",
       "      <td>0</td>\n",
       "      <td>0</td>\n",
       "      <td>0</td>\n",
       "      <td>0</td>\n",
       "      <td>0</td>\n",
       "      <td>0</td>\n",
       "      <td>0</td>\n",
       "    </tr>\n",
       "    <tr>\n",
       "      <th>4</th>\n",
       "      <td>22</td>\n",
       "      <td>0</td>\n",
       "      <td>0</td>\n",
       "      <td>0</td>\n",
       "      <td>0</td>\n",
       "      <td>0</td>\n",
       "      <td>0</td>\n",
       "      <td>0</td>\n",
       "      <td>0</td>\n",
       "      <td>0</td>\n",
       "      <td>...</td>\n",
       "      <td>0</td>\n",
       "      <td>0</td>\n",
       "      <td>0</td>\n",
       "      <td>0</td>\n",
       "      <td>0</td>\n",
       "      <td>0</td>\n",
       "      <td>0</td>\n",
       "      <td>0</td>\n",
       "      <td>0</td>\n",
       "      <td>0</td>\n",
       "    </tr>\n",
       "  </tbody>\n",
       "</table>\n",
       "<p>5 rows × 785 columns</p>\n",
       "</div>"
      ],
      "text/plain": [
       "   Label  Pixel1  Pixel2  Pixel3  Pixel4  Pixel5  Pixel6  Pixel7  Pixel8  \\\n",
       "0     35       0       0       0       0       0       0       0       0   \n",
       "1     36       0       0       0       0       0       0       0       0   \n",
       "2      6       0       0       0       0       0       0       0       0   \n",
       "3      3       0       0       0       0       0       0       0       0   \n",
       "4     22       0       0       0       0       0       0       0       0   \n",
       "\n",
       "   Pixel9  ...  Pixel775  Pixel776  Pixel777  Pixel778  Pixel779  Pixel780  \\\n",
       "0       0  ...         0         0         0         0         0         0   \n",
       "1       0  ...         0         0         0         0         0         0   \n",
       "2       0  ...         0         0         0         0         0         0   \n",
       "3       0  ...         0         0         0         0         0         0   \n",
       "4       0  ...         0         0         0         0         0         0   \n",
       "\n",
       "   Pixel781  Pixel782  Pixel783  Pixel784  \n",
       "0         0         0         0         0  \n",
       "1         0         0         0         0  \n",
       "2         0         0         0         0  \n",
       "3         0         0         0         0  \n",
       "4         0         0         0         0  \n",
       "\n",
       "[5 rows x 785 columns]"
      ]
     },
     "execution_count": 5,
     "metadata": {},
     "output_type": "execute_result"
    }
   ],
   "source": [
    "a=['Label']\n",
    "\n",
    "for i in range(784):\n",
    "    a.append('Pixel'+str(i+1))\n",
    "\n",
    "emnist_train_path = './Datasets/Emnist/emnist-byclass-train.csv'\n",
    "emnist_train_df = pd.read_csv(emnist_train_path, delimiter=',', names=a)\n",
    "print('Shape of Training dataset: ', emnist_train_df.shape)\n",
    "# emnist_test_path = './Datasets/Emnist/emnist-byclass-test.csv'\n",
    "# emnist_test_df = pd.read_csv(emnist_test_path, delimiter=',', names=a)\n",
    "# print('Shape of Test dataset: ', emnist_test_df.shape)\n",
    "\n",
    "emnist_train_df.head()"
   ]
  },
  {
   "cell_type": "code",
   "execution_count": 8,
   "metadata": {},
   "outputs": [
    {
     "name": "stdout",
     "output_type": "stream",
     "text": [
      "(697932, 28, 28)\n",
      "(697932, 1)\n"
     ]
    }
   ],
   "source": [
    "X_emnist_train_df = emnist_train_df.copy()\n",
    "y_emnist_train_df = X_emnist_train_df.pop('Label')\n",
    "\n",
    "# X_emnist_test_df = emnist_test_df.copy()\n",
    "# y_emnist_test_df = X_emnist_test_df.pop('Label')\n",
    "\n",
    "X_emnist_train_df = np.array(X_emnist_train_df)\n",
    "X_emnist_train_df = X_emnist_train_df[:, :].reshape(-1, 28, 28)\n",
    "y_emnist_train_df = np.array(y_emnist_train_df)\n",
    "y_emnist_train_df = y_emnist_train_df[..., np.newaxis]\n",
    "\n",
    "print(X_emnist_train_df.shape)\n",
    "print(y_emnist_train_df.shape)"
   ]
  },
  {
   "cell_type": "code",
   "execution_count": 9,
   "metadata": {},
   "outputs": [
    {
     "name": "stdout",
     "output_type": "stream",
     "text": [
      "Saving figure EMNIST Datapoints\n"
     ]
    },
    {
     "data": {
      "image/png": "[encoded data removed]",
      "text/plain": [
       "<Figure size 864x864 with 100 Axes>"
      ]
     },
     "metadata": {
      "needs_background": "light"
     },
     "output_type": "display_data"
    }
   ],
   "source": [
    "n_rows = 10\n",
    "n_cols = 10\n",
    "plt.figure(figsize=(n_cols * 1.2, n_rows * 1.2))\n",
    "for row in range(n_rows):\n",
    "    for col in range(n_cols):\n",
    "        index = n_cols * row + col\n",
    "        plt.subplot(n_rows, n_cols, index + 1)\n",
    "        plt.imshow(X_emnist_train_df[index+70], cmap=\"gray\", interpolation=\"nearest\")\n",
    "        plt.axis('off')\n",
    "        plt.title(decodeLabel(int(y_emnist_train_df[index+70])), fontsize=12)\n",
    "plt.subplots_adjust(wspace=0.2, hspace=0.5)\n",
    "save_fig('EMNIST - Datapoints', tight_layout=False)\n",
    "plt.show()"
   ]
  },
  {
   "cell_type": "markdown",
   "metadata": {},
   "source": [
    "### 1.1. Original NIST19"
   ]
  },
  {
   "cell_type": "markdown",
   "metadata": {},
   "source": [
    "#### 1.1.1. Loading the dataset"
   ]
  },
  {
   "cell_type": "code",
   "execution_count": 5,
   "metadata": {},
   "outputs": [
    {
     "name": "stdout",
     "output_type": "stream",
     "text": [
      "Reading Data of Class 0\n",
      "Completed,  34803  Datapoints read!\n",
      "Completed,  34803  Labels read!\n",
      "==================================================\n",
      "Reading Data of Class 1\n",
      "Completed,  72852  Datapoints read!\n",
      "Completed,  72852  Labels read!\n",
      "==================================================\n",
      "Reading Data of Class 2\n",
      "Completed,  107036  Datapoints read!\n",
      "Completed,  107036  Labels read!\n",
      "==================================================\n",
      "Reading Data of Class 3\n",
      "Completed,  142329  Datapoints read!\n",
      "Completed,  142329  Labels read!\n",
      "==================================================\n",
      "Reading Data of Class 4\n",
      "Completed,  175761  Datapoints read!\n",
      "Completed,  175761  Labels read!\n",
      "==================================================\n",
      "Reading Data of Class 5\n",
      "Completed,  206828  Datapoints read!\n",
      "Completed,  206828  Labels read!\n",
      "==================================================\n",
      "Reading Data of Class 6\n",
      "Completed,  240907  Datapoints read!\n",
      "Completed,  240907  Labels read!\n",
      "==================================================\n",
      "Reading Data of Class 7\n",
      "Completed,  276703  Datapoints read!\n",
      "Completed,  276703  Labels read!\n",
      "==================================================\n",
      "Reading Data of Class 8\n",
      "Completed,  310587  Datapoints read!\n",
      "Completed,  310587  Labels read!\n",
      "==================================================\n",
      "Reading Data of Class 9\n",
      "Completed,  344307  Datapoints read!\n",
      "Completed,  344307  Labels read!\n",
      "==================================================\n",
      "Reading Data of Class A\n",
      "Completed,  351317  Datapoints read!\n",
      "Completed,  351317  Labels read!\n",
      "==================================================\n",
      "Reading Data of Class B\n",
      "Completed,  355408  Datapoints read!\n",
      "Completed,  355408  Labels read!\n",
      "==================================================\n",
      "Reading Data of Class C\n",
      "Completed,  366723  Datapoints read!\n",
      "Completed,  366723  Labels read!\n",
      "==================================================\n",
      "Reading Data of Class D\n",
      "Completed,  371668  Datapoints read!\n",
      "Completed,  371668  Labels read!\n",
      "==================================================\n",
      "Reading Data of Class E\n",
      "Completed,  377088  Datapoints read!\n",
      "Completed,  377088  Labels read!\n",
      "==================================================\n",
      "Reading Data of Class F\n",
      "Completed,  387291  Datapoints read!\n",
      "Completed,  387291  Labels read!\n",
      "==================================================\n",
      "Reading Data of Class G\n",
      "Completed,  389866  Datapoints read!\n",
      "Completed,  389866  Labels read!\n",
      "==================================================\n",
      "Reading Data of Class H\n",
      "Completed,  393137  Datapoints read!\n",
      "Completed,  393137  Labels read!\n",
      "==================================================\n",
      "Reading Data of Class I\n",
      "Completed,  406316  Datapoints read!\n",
      "Completed,  406316  Labels read!\n",
      "==================================================\n",
      "Reading Data of Class J\n",
      "Completed,  410278  Datapoints read!\n",
      "Completed,  410278  Labels read!\n",
      "==================================================\n",
      "Reading Data of Class K\n",
      "Completed,  412751  Datapoints read!\n",
      "Completed,  412751  Labels read!\n",
      "==================================================\n",
      "Reading Data of Class L\n",
      "Completed,  418136  Datapoints read!\n",
      "Completed,  418136  Labels read!\n",
      "==================================================\n",
      "Reading Data of Class M\n",
      "Completed,  428163  Datapoints read!\n",
      "Completed,  428163  Labels read!\n",
      "==================================================\n",
      "Reading Data of Class N\n",
      "Completed,  437312  Datapoints read!\n",
      "Completed,  437312  Labels read!\n",
      "==================================================\n",
      "Reading Data of Class O\n",
      "Completed,  465992  Datapoints read!\n",
      "Completed,  465992  Labels read!\n",
      "==================================================\n",
      "Reading Data of Class P\n",
      "Completed,  475269  Datapoints read!\n",
      "Completed,  475269  Labels read!\n",
      "==================================================\n",
      "Reading Data of Class Q\n",
      "Completed,  477835  Datapoints read!\n",
      "Completed,  477835  Labels read!\n",
      "==================================================\n",
      "Reading Data of Class R\n",
      "Completed,  483271  Datapoints read!\n",
      "Completed,  483271  Labels read!\n",
      "==================================================\n",
      "Reading Data of Class S\n",
      "Completed,  507098  Datapoints read!\n",
      "Completed,  507098  Labels read!\n",
      "==================================================\n",
      "Reading Data of Class T\n",
      "Completed,  518025  Datapoints read!\n",
      "Completed,  518025  Labels read!\n",
      "==================================================\n",
      "Reading Data of Class U\n",
      "Completed,  532171  Datapoints read!\n",
      "Completed,  532171  Labels read!\n",
      "==================================================\n",
      "Reading Data of Class V\n",
      "Completed,  537122  Datapoints read!\n",
      "Completed,  537122  Labels read!\n",
      "==================================================\n",
      "Reading Data of Class W\n",
      "Completed,  542148  Datapoints read!\n",
      "Completed,  542148  Labels read!\n",
      "==================================================\n",
      "Reading Data of Class X\n",
      "Completed,  544879  Datapoints read!\n",
      "Completed,  544879  Labels read!\n",
      "==================================================\n",
      "Reading Data of Class Y\n",
      "Completed,  549967  Datapoints read!\n",
      "Completed,  549967  Labels read!\n",
      "==================================================\n",
      "Reading Data of Class Z\n",
      "Completed,  552665  Datapoints read!\n",
      "Completed,  552665  Labels read!\n",
      "==================================================\n",
      "Reading Data of Class a\n",
      "Completed,  563861  Datapoints read!\n",
      "Completed,  563861  Labels read!\n",
      "==================================================\n",
      "Reading Data of Class b\n",
      "Completed,  569412  Datapoints read!\n",
      "Completed,  569412  Labels read!\n",
      "==================================================\n",
      "Reading Data of Class c\n",
      "Completed,  572204  Datapoints read!\n",
      "Completed,  572204  Labels read!\n",
      "==================================================\n",
      "Reading Data of Class d\n",
      "Completed,  583625  Datapoints read!\n",
      "Completed,  583625  Labels read!\n",
      "==================================================\n",
      "Reading Data of Class e\n",
      "Completed,  611924  Datapoints read!\n",
      "Completed,  611924  Labels read!\n",
      "==================================================\n",
      "Reading Data of Class f\n",
      "Completed,  614417  Datapoints read!\n",
      "Completed,  614417  Labels read!\n",
      "==================================================\n",
      "Reading Data of Class g\n",
      "Completed,  618256  Datapoints read!\n",
      "Completed,  618256  Labels read!\n",
      "==================================================\n",
      "Reading Data of Class h\n",
      "Completed,  627969  Datapoints read!\n",
      "Completed,  627969  Labels read!\n",
      "==================================================\n",
      "Reading Data of Class i\n",
      "Completed,  630757  Datapoints read!\n",
      "Completed,  630757  Labels read!\n",
      "==================================================\n",
      "Reading Data of Class j\n",
      "Completed,  632670  Datapoints read!\n",
      "Completed,  632670  Labels read!\n",
      "==================================================\n",
      "Reading Data of Class k\n",
      "Completed,  635232  Datapoints read!\n",
      "Completed,  635232  Labels read!\n",
      "==================================================\n",
      "Reading Data of Class l\n",
      "Completed,  652169  Datapoints read!\n",
      "Completed,  652169  Labels read!\n",
      "==================================================\n",
      "Reading Data of Class m\n",
      "Completed,  654803  Datapoints read!\n",
      "Completed,  654803  Labels read!\n",
      "==================================================\n",
      "Reading Data of Class n\n",
      "Completed,  667659  Datapoints read!\n",
      "Completed,  667659  Labels read!\n",
      "==================================================\n",
      "Reading Data of Class o\n",
      "Completed,  670420  Datapoints read!\n",
      "Completed,  670420  Labels read!\n",
      "==================================================\n",
      "Reading Data of Class p\n",
      "Completed,  672821  Datapoints read!\n",
      "Completed,  672821  Labels read!\n",
      "==================================================\n",
      "Reading Data of Class q\n",
      "Completed,  675936  Datapoints read!\n",
      "Completed,  675936  Labels read!\n",
      "==================================================\n",
      "Reading Data of Class r\n",
      "Completed,  691870  Datapoints read!\n",
      "Completed,  691870  Labels read!\n",
      "==================================================\n",
      "Reading Data of Class s\n",
      "Completed,  694568  Datapoints read!\n",
      "Completed,  694568  Labels read!\n",
      "==================================================\n",
      "Reading Data of Class t\n",
      "Completed,  715361  Datapoints read!\n",
      "Completed,  715361  Labels read!\n",
      "==================================================\n",
      "Reading Data of Class u\n",
      "Completed,  718198  Datapoints read!\n",
      "Completed,  718198  Labels read!\n",
      "==================================================\n",
      "Reading Data of Class v\n",
      "Completed,  721052  Datapoints read!\n",
      "Completed,  721052  Labels read!\n",
      "==================================================\n",
      "Reading Data of Class w\n",
      "Completed,  723751  Datapoints read!\n",
      "Completed,  723751  Labels read!\n",
      "==================================================\n",
      "Reading Data of Class x\n",
      "Completed,  726571  Datapoints read!\n",
      "Completed,  726571  Labels read!\n",
      "==================================================\n",
      "Reading Data of Class y\n",
      "Completed,  728930  Datapoints read!\n",
      "Completed,  728930  Labels read!\n",
      "==================================================\n",
      "Reading Data of Class z\n",
      "Completed,  731656  Datapoints read!\n",
      "Completed,  731656  Labels read!\n",
      "==================================================\n",
      "731656\n",
      "(731656, 784)\n",
      "(731656, 1)\n"
     ]
    }
   ],
   "source": [
    "training_data = []\n",
    "training_labels = []\n",
    "for index in range(62):\n",
    "    print(\"Reading Data of Class\", decodeLabel(index))\n",
    "    #setting the path to the directory containing the pics\n",
    "    path = f\"./Datasets/NIST19/{index}/\"\n",
    "    for img in os.listdir(path):\n",
    "        pic = cv2.imread(os.path.join(path,img))\n",
    "        height, width, _ = pic.shape\n",
    "        pic = cv2.cvtColor(pic,cv2.COLOR_BGR2GRAY)\n",
    "        pic = cv2.bitwise_not(pic)\n",
    "        pic = cv2.resize(pic,(28,28))\n",
    "        new_pic = np.asarray(pic)\n",
    "        new_pic = new_pic.reshape(-1)\n",
    "        training_data.append(new_pic)\n",
    "        training_labels.append([str(index)])\n",
    "\n",
    "    print(\"Completed, \", len(training_data), \" Datapoints read!\")\n",
    "    print(\"Completed, \", len(training_labels), \" Labels read!\")\n",
    "    print(\"==================================================\")\n",
    "\n",
    "print(len(training_data))\n",
    "training_data = np.asarray(training_data)\n",
    "print(training_data.shape)\n",
    "training_labels = np.asarray(training_labels)\n",
    "print(training_labels.shape)"
   ]
  },
  {
   "cell_type": "code",
   "execution_count": 6,
   "metadata": {},
   "outputs": [],
   "source": [
    "X_nist_original = training_data\n",
    "y_nist_original = training_labels"
   ]
  },
  {
   "cell_type": "code",
   "execution_count": 7,
   "metadata": {},
   "outputs": [],
   "source": [
    "np.save(\"./Datasets/X_nist_original.npy\", X_nist_original)\n",
    "np.save(\"./Datasets/y_nist_original.npy\", y_nist_original)"
   ]
  },
  {
   "cell_type": "markdown",
   "metadata": {},
   "source": [
    "#### 1.1.2. Plotting the class distribution of the dataset"
   ]
  },
  {
   "cell_type": "markdown",
   "metadata": {},
   "source": [
    "Plotting Labels over the bars\n",
    "https://stackoverflow.com/questions/55586912/seaborn-catplot-set-values-over-the-bars"
   ]
  },
  {
   "cell_type": "code",
   "execution_count": 18,
   "metadata": {},
   "outputs": [],
   "source": [
    "upper_letters_names = [\"A\", \"B\", \"C\", \"D\", \"E\", \"F\", \"G\", \"H\", \"I\", \"J\", \"K\", \"L\", \"M\", \"N\", \"O\", \"P\", \"Q\", \"R\", \"S\", \"T\", \"U\", \"V\", \"W\", \"X\", \"Y\", \"Z\"]\n",
    "lower_letters_names = [\"a\", \"b\", \"c\", \"d\", \"e\", \"f\", \"g\", \"h\", \"i\", \"j\", \"k\", \"l\", \"m\", \"n\", \"o\", \"p\", \"q\", \"r\", \"s\", \"t\", \"u\", \"v\", \"w\", \"x\", \"y\", \"z\"]\n",
    "digits_names = [\"0\", \"1\", \"2\", \"3\", \"4\", \"5\", \"6\", \"7\", \"8\", \"9\"]\n",
    "\n",
    "upper_letters_frequecies = [ np.count_nonzero(y_nist_original == str(x)) for x in range(10,36,1) ]\n",
    "\n",
    "upper_data = {\n",
    "    'Upper Case Letters': upper_letters_names,\n",
    "    '#Data Points': upper_letters_frequecies\n",
    "    }\n",
    "upper_freq_df = pd.DataFrame(upper_data)\n",
    "\n",
    "lower_letters_frequecies = [ np.count_nonzero(y_nist_original == str(x)) for x in range(36,62,1) ]\n",
    "\n",
    "lower_data = {\n",
    "    'Lower Case Letters': lower_letters_names,\n",
    "    '#Data Points': lower_letters_frequecies\n",
    "    }\n",
    "lower_freq_df = pd.DataFrame(lower_data)\n",
    "\n",
    "digits_frequecies = [ np.count_nonzero(y_nist_original == str(x)) for x in range(0,10,1) ]\n",
    "\n",
    "digits_data = {\n",
    "    'Digits': digits_names,\n",
    "    '#Data Points': digits_frequecies\n",
    "    }\n",
    "digits_freq_df = pd.DataFrame(digits_data)\n",
    "\n",
    "\n",
    "\n",
    "upper_data_de = {\n",
    "    'Großbuchstaben': upper_letters_names,\n",
    "    '#Datenpunkte': upper_letters_frequecies\n",
    "    }\n",
    "upper_freq_de_df = pd.DataFrame(upper_data_de)\n",
    "\n",
    "lower_data_de = {\n",
    "    'Kleinbuchstaben': lower_letters_names,\n",
    "    '#Datenpunkte': lower_letters_frequecies\n",
    "    }\n",
    "lower_freq_de_df = pd.DataFrame(lower_data_de)\n",
    "\n",
    "digits_data_de = {\n",
    "    'Ziffern': digits_names,\n",
    "    '#Datenpunkte': digits_frequecies\n",
    "    }\n",
    "digits_freq_de_df = pd.DataFrame(digits_data_de)"
   ]
  },
  {
   "cell_type": "code",
   "execution_count": 19,
   "metadata": {},
   "outputs": [
    {
     "name": "stdout",
     "output_type": "stream",
     "text": [
      "Saving figure NIST19 - Upper Case with Average\n",
      "Saving figure NIST19 - Lower Case with Average\n",
      "Saving figure NIST19 - Digits with Average\n",
      "Saving figure NIST19 - Großbuchstaben mit Durchschnitt\n",
      "Saving figure NIST19 - Kleinbuchstaben mit Durchschnitt\n",
      "Saving figure NIST19 - Ziffern mit Durchschnitt\n"
     ]
    },
    {
     "data": {
      "image/png": "[encoded data removed]",
      "text/plain": [
       "<Figure size 864x576 with 1 Axes>"
      ]
     },
     "metadata": {
      "needs_background": "light"
     },
     "output_type": "display_data"
    },
    {
     "data": {
      "image/png": "[encoded data removed]",
      "text/plain": [
       "<Figure size 864x576 with 1 Axes>"
      ]
     },
     "metadata": {
      "needs_background": "light"
     },
     "output_type": "display_data"
    },
    {
     "data": {
      "image/png": "[encoded data removed]",
      "text/plain": [
       "<Figure size 864x576 with 1 Axes>"
      ]
     },
     "metadata": {
      "needs_background": "light"
     },
     "output_type": "display_data"
    },
    {
     "data": {
      "image/png": "[encoded data removed]",
      "text/plain": [
       "<Figure size 864x576 with 1 Axes>"
      ]
     },
     "metadata": {
      "needs_background": "light"
     },
     "output_type": "display_data"
    },
    {
     "data": {
      "image/png": "[encoded data removed]",
      "text/plain": [
       "<Figure size 864x576 with 1 Axes>"
      ]
     },
     "metadata": {
      "needs_background": "light"
     },
     "output_type": "display_data"
    },
    {
     "data": {
      "image/png": "[encoded data removed]",
      "text/plain": [
       "<Figure size 864x576 with 1 Axes>"
      ]
     },
     "metadata": {
      "needs_background": "light"
     },
     "output_type": "display_data"
    }
   ],
   "source": [
    "upper_average = sum(upper_letters_frequecies) / len(upper_letters_frequecies)\n",
    "lower_average = sum(lower_letters_frequecies) / len(lower_letters_frequecies)\n",
    "digits_average = sum(digits_frequecies) / len(digits_frequecies)\n",
    "\n",
    "upper_freq_catplot = sns.catplot(x=\"Upper Case Letters\", y=\"#Data Points\", kind=\"bar\", height=8, aspect=1.5, orient='v',  data=upper_freq_df, legend=True)\n",
    "upper_freq_catplot.set_yticklabels(fontsize=12, rotation=0)\n",
    "ax1 = upper_freq_catplot.facet_axis(0,0)\n",
    "for p in ax1.patches:\n",
    "        ax1.text(p.get_x() - 0.01,\n",
    "                p.get_height() * 1.02,\n",
    "                '{0:.1f}K'.format(p.get_height()/1000),   #Used to format it K representation\n",
    "                color='black',\n",
    "                rotation='horizontal',\n",
    "                size='large')\n",
    "        ax1.axhline(upper_average, ls='--')\n",
    "        ax1.text(25, upper_average+500, '{0:.1f}K'.format(upper_average/1000))\n",
    "save_fig('NIST19 - Upper Case with Average', tight_layout=False)\n",
    "\n",
    "lower_freq_catplot = sns.catplot(x=\"Lower Case Letters\", y=\"#Data Points\", kind=\"bar\", height=8, aspect=1.5, orient='v',  data=lower_freq_df)\n",
    "lower_freq_catplot.set_yticklabels(fontsize=12, rotation=0)\n",
    "ax2 = lower_freq_catplot.facet_axis(0,0)\n",
    "for p in ax2.patches:\n",
    "        ax2.text(p.get_x() - 0.01,\n",
    "                p.get_height() * 1.02,\n",
    "                '{0:.1f}K'.format(p.get_height()/1000),   #Used to format it K representation\n",
    "                color='black',\n",
    "                rotation='horizontal',\n",
    "                size='large')\n",
    "        ax2.axhline(lower_average, ls='--')\n",
    "        ax2.text(25, lower_average+500, '{0:.1f}K'.format(lower_average/1000))\n",
    "save_fig('NIST19 - Lower Case with Average', tight_layout=False)\n",
    "\n",
    "digits_freq_catplot = sns.catplot(x=\"Digits\", y=\"#Data Points\", kind=\"bar\", height=8, aspect=1.5, orient='v',  data=digits_freq_df)\n",
    "digits_freq_catplot.set_yticklabels(fontsize=12, rotation=0)\n",
    "ax3 = digits_freq_catplot.facet_axis(0,0)\n",
    "for p in ax3.patches:\n",
    "        ax3.text(p.get_x() - 0.01,\n",
    "                p.get_height() * 1.02,\n",
    "                '{0:.1f}K'.format(p.get_height()/1000),   #Used to format it K representation\n",
    "                color='black',\n",
    "                rotation='horizontal',\n",
    "                size='large')\n",
    "        ax3.axhline(digits_average, ls='--')\n",
    "        ax3.text(9.2, digits_average+500, '{0:.1f}K'.format(digits_average/1000))\n",
    "save_fig('NIST19 - Digits with Average', tight_layout=False)\n",
    "\n",
    "\n",
    "\n",
    "upper_freq_de_catplot = sns.catplot(x=\"Großbuchstaben\", y=\"#Datenpunkte\", kind=\"bar\", height=8, aspect=1.5, orient='v',  data=upper_freq_de_df, legend=True)\n",
    "upper_freq_de_catplot.set_yticklabels(fontsize=12, rotation=0)\n",
    "ax1 = upper_freq_de_catplot.facet_axis(0,0)\n",
    "for p in ax1.patches:\n",
    "        ax1.text(p.get_x() - 0.01,\n",
    "                p.get_height() * 1.02,\n",
    "                '{0:.1f}K'.format(p.get_height()/1000),   #Used to format it K representation\n",
    "                color='black',\n",
    "                rotation='horizontal',\n",
    "                size='large')\n",
    "        ax1.axhline(upper_average, ls='--')\n",
    "        ax1.text(25, upper_average+500, '{0:.1f}K'.format(upper_average/1000))\n",
    "save_fig('NIST19 - Großbuchstaben mit Durchschnitt', tight_layout=False)\n",
    "\n",
    "lower_freq_de_catplot = sns.catplot(x=\"Kleinbuchstaben\", y=\"#Datenpunkte\", kind=\"bar\", height=8, aspect=1.5, orient='v',  data=lower_freq_de_df)\n",
    "lower_freq_de_catplot.set_yticklabels(fontsize=12, rotation=0)\n",
    "ax2 = lower_freq_de_catplot.facet_axis(0,0)\n",
    "for p in ax2.patches:\n",
    "        ax2.text(p.get_x() - 0.01,\n",
    "                p.get_height() * 1.02,\n",
    "                '{0:.1f}K'.format(p.get_height()/1000),   #Used to format it K representation\n",
    "                color='black',\n",
    "                rotation='horizontal',\n",
    "                size='large')\n",
    "        ax2.axhline(lower_average, ls='--')\n",
    "        ax2.text(25, lower_average+500, '{0:.1f}K'.format(lower_average/1000))\n",
    "save_fig('NIST19 - Kleinbuchstaben mit Durchschnitt', tight_layout=False)\n",
    "\n",
    "digits_freq_de_catplot = sns.catplot(x=\"Ziffern\", y=\"#Datenpunkte\", kind=\"bar\", height=8, aspect=1.5, orient='v',  data=digits_freq_de_df)\n",
    "digits_freq_de_catplot.set_yticklabels(fontsize=12, rotation=0)\n",
    "ax3 = digits_freq_de_catplot.facet_axis(0,0)\n",
    "for p in ax3.patches:\n",
    "        ax3.text(p.get_x() - 0.01,\n",
    "                p.get_height() * 1.02,\n",
    "                '{0:.1f}K'.format(p.get_height()/1000),   #Used to format it K representation\n",
    "                color='black',\n",
    "                rotation='horizontal',\n",
    "                size='large')\n",
    "        ax3.axhline(digits_average, ls='--')\n",
    "        ax3.text(9.2, digits_average+500, '{0:.1f}K'.format(digits_average/1000))\n",
    "save_fig('NIST19 - Ziffern mit Durchschnitt', tight_layout=False)"
   ]
  },
  {
   "cell_type": "markdown",
   "metadata": {},
   "source": [
    "### 1.2. Cropped And Resized NIST19 (With OpenCV)"
   ]
  },
  {
   "cell_type": "markdown",
   "metadata": {},
   "source": [
    "#### 1.2.1. Methods of Cropping the dataset and rescale the characters to the size of their images"
   ]
  },
  {
   "cell_type": "markdown",
   "metadata": {},
   "source": [
    "Crop Image Padding (With OpenCV)"
   ]
  },
  {
   "cell_type": "code",
   "execution_count": 17,
   "metadata": {},
   "outputs": [],
   "source": [
    "def cropImagePaddingAndResize(image, img_dimension=28, kernel_height=5 ,kernel_width=5): #image is a Gray_Image with one Channel\n",
    "    kernel = np.ones((kernel_height,kernel_width), dtype='uint8')\n",
    "    dilated_image = cv2.dilate(image, kernel, iterations=1)\n",
    "    contours, hierarchies = cv2.findContours(dilated_image.copy(), cv2.RETR_EXTERNAL, cv2.CHAIN_APPROX_NONE)\n",
    "    sorted_contour_lines = sorted(contours, key=lambda contour: cv2.contourArea(contour))\n",
    "    x, y, w, h = cv2.boundingRect(sorted_contour_lines[-1]) #Accepting only the biggest Contour\n",
    "    image=image[y:y+h, x:x+w]\n",
    "\n",
    "    # Resize Image to img_dimension minus margin with respect to the aspect ratio of the image\n",
    "    height, width = image.shape\n",
    "    if height > width:\n",
    "        if height > img_dimension:\n",
    "            new_height = img_dimension-4 # -4 as margin\n",
    "            aspect_ratio = height / width\n",
    "            new_width = int(new_height / aspect_ratio)\n",
    "            image = cv2.resize(image, (new_width, new_height), interpolation=cv2.INTER_AREA)    #Resize To Smaller Image\n",
    "            return image\n",
    "        else:\n",
    "            new_height = img_dimension-4 # -4 as margin\n",
    "            aspect_ratio = height / width\n",
    "            new_width = int(new_height / aspect_ratio)\n",
    "            image = cv2.resize(image, (new_width, new_height), interpolation=cv2.INTER_CUBIC)   #Resize To Bigger Image\n",
    "            return image\n",
    "    else:\n",
    "        if width > img_dimension:\n",
    "            new_width = img_dimension-4 # -4 as margin\n",
    "            aspect_ratio = width / height\n",
    "            new_height = int(new_width / aspect_ratio)\n",
    "            image = cv2.resize(image, (new_width, new_height), interpolation=cv2.INTER_AREA)    #Resize To Smaller Image\n",
    "            return image\n",
    "        else:\n",
    "            new_width = img_dimension-4 # -4 as margin\n",
    "            aspect_ratio = width / height\n",
    "            new_height = int(new_width / aspect_ratio)\n",
    "            image = cv2.resize(image, (new_width, new_height), interpolation=cv2.INTER_CUBIC)   #Resize To Bigger Image\n",
    "            return image"
   ]
  },
  {
   "cell_type": "markdown",
   "metadata": {},
   "source": [
    "Repair Image Shape (Adding Padding to reach img_dimension)"
   ]
  },
  {
   "cell_type": "code",
   "execution_count": 18,
   "metadata": {},
   "outputs": [],
   "source": [
    "# Adding black pixels to the margin\n",
    "def repairShape(image, img_dimension=28): #image is a Gray_Image with one Channel\n",
    "    height, width = image.shape\n",
    "    if height % 2 != 0:\n",
    "        top = int((img_dimension-height)/2)+1\n",
    "        bottom = int((img_dimension-height)/2)\n",
    "        if width % 2 != 0:\n",
    "            left = int((img_dimension-width)/2)+1\n",
    "            right = int((img_dimension-width)/2)\n",
    "            image = cv2.copyMakeBorder(image, top, bottom, left, right, cv2.BORDER_CONSTANT,value=0)\n",
    "            return image\n",
    "        else:\n",
    "            left = int((img_dimension-width)/2)\n",
    "            right = int((img_dimension-width)/2)\n",
    "            image = cv2.copyMakeBorder(image, top, bottom, left, right, cv2.BORDER_CONSTANT,value=0)\n",
    "            return image\n",
    "    else:\n",
    "        top = int((img_dimension-height)/2)\n",
    "        bottom = int((img_dimension-height)/2)\n",
    "        if width % 2 != 0:\n",
    "            left = int((img_dimension-width)/2)+1\n",
    "            right = int((img_dimension-width)/2)\n",
    "            image = cv2.copyMakeBorder(image, top, bottom, left, right, cv2.BORDER_CONSTANT,value=0)\n",
    "            return image\n",
    "        else:\n",
    "            left = int((img_dimension-width)/2)\n",
    "            right = int((img_dimension-width)/2)\n",
    "            image = cv2.copyMakeBorder(image, top, bottom, left, right, cv2.BORDER_CONSTANT,value=0)\n",
    "            return image"
   ]
  },
  {
   "cell_type": "markdown",
   "metadata": {},
   "source": [
    "#### 1.2.2. Cropping and rescaling the dataset and then saving"
   ]
  },
  {
   "cell_type": "code",
   "execution_count": null,
   "metadata": {},
   "outputs": [],
   "source": [
    "for index in range(62):\n",
    "    print(\"Reading Data of Class\", decodeLabel(index))\n",
    "    #setting the path to the directory containing the pics\n",
    "    path = f\"./Datasets/NIST19/{index}/\"\n",
    "\n",
    "    for img in os.listdir(path):\n",
    "        pic = cv2.imread(os.path.join(path,img))\n",
    "\n",
    "        # Preprocessing the image\n",
    "        height, width, _ = pic.shape\n",
    "        pic = cv2.cvtColor(pic,cv2.COLOR_BGR2GRAY)\n",
    "        pic = cv2.bitwise_not(pic)\n",
    "\n",
    "        # Cropping the extra padding of the images\n",
    "        pic = cropImagePaddingAndResize(pic)\n",
    "        pic = repairShape(pic)\n",
    "\n",
    "\n",
    "        pathOfDataset = f\"./Datasets/NIST19CroppedS/\"\n",
    "        #creating new directory with the name of the class in the folder of the new dataset\n",
    "        os.makedirs(os.path.join(pathOfDataset, str(index)), exist_ok=True)\n",
    "        pathOfClassFolder = os.path.join(pathOfDataset, str(index))\n",
    "        # Saving the new version of the data\n",
    "        cv2.imwrite(os.path.join(pathOfClassFolder,img), pic)"
   ]
  },
  {
   "cell_type": "markdown",
   "metadata": {},
   "source": [
    "#### 1.2.3. Loading the cropped dataset"
   ]
  },
  {
   "cell_type": "code",
   "execution_count": 20,
   "metadata": {},
   "outputs": [
    {
     "name": "stdout",
     "output_type": "stream",
     "text": [
      "Reading Data of Class 0\n",
      "Completed,  34803  Datapoints read!\n",
      "Completed,  34803  Labels read!\n",
      "==================================================\n",
      "Reading Data of Class 1\n",
      "Completed,  72852  Datapoints read!\n",
      "Completed,  72852  Labels read!\n",
      "==================================================\n",
      "Reading Data of Class 2\n",
      "Completed,  107036  Datapoints read!\n",
      "Completed,  107036  Labels read!\n",
      "==================================================\n",
      "Reading Data of Class 3\n",
      "Completed,  142329  Datapoints read!\n",
      "Completed,  142329  Labels read!\n",
      "==================================================\n",
      "Reading Data of Class 4\n",
      "Completed,  175761  Datapoints read!\n",
      "Completed,  175761  Labels read!\n",
      "==================================================\n",
      "Reading Data of Class 5\n",
      "Completed,  206828  Datapoints read!\n",
      "Completed,  206828  Labels read!\n",
      "==================================================\n",
      "Reading Data of Class 6\n",
      "Completed,  240907  Datapoints read!\n",
      "Completed,  240907  Labels read!\n",
      "==================================================\n",
      "Reading Data of Class 7\n",
      "Completed,  276703  Datapoints read!\n",
      "Completed,  276703  Labels read!\n",
      "==================================================\n",
      "Reading Data of Class 8\n",
      "Completed,  310587  Datapoints read!\n",
      "Completed,  310587  Labels read!\n",
      "==================================================\n",
      "Reading Data of Class 9\n",
      "Completed,  344307  Datapoints read!\n",
      "Completed,  344307  Labels read!\n",
      "==================================================\n",
      "Reading Data of Class A\n",
      "Completed,  351315  Datapoints read!\n",
      "Completed,  351315  Labels read!\n",
      "==================================================\n",
      "Reading Data of Class B\n",
      "Completed,  355405  Datapoints read!\n",
      "Completed,  355405  Labels read!\n",
      "==================================================\n",
      "Reading Data of Class C\n",
      "Completed,  366720  Datapoints read!\n",
      "Completed,  366720  Labels read!\n",
      "==================================================\n",
      "Reading Data of Class D\n",
      "Completed,  371665  Datapoints read!\n",
      "Completed,  371665  Labels read!\n",
      "==================================================\n",
      "Reading Data of Class E\n",
      "Completed,  377085  Datapoints read!\n",
      "Completed,  377085  Labels read!\n",
      "==================================================\n",
      "Reading Data of Class F\n",
      "Completed,  387288  Datapoints read!\n",
      "Completed,  387288  Labels read!\n",
      "==================================================\n",
      "Reading Data of Class G\n",
      "Completed,  389863  Datapoints read!\n",
      "Completed,  389863  Labels read!\n",
      "==================================================\n",
      "Reading Data of Class H\n",
      "Completed,  393134  Datapoints read!\n",
      "Completed,  393134  Labels read!\n",
      "==================================================\n",
      "Reading Data of Class I\n",
      "Completed,  406313  Datapoints read!\n",
      "Completed,  406313  Labels read!\n",
      "==================================================\n",
      "Reading Data of Class J\n",
      "Completed,  410275  Datapoints read!\n",
      "Completed,  410275  Labels read!\n",
      "==================================================\n",
      "Reading Data of Class K\n",
      "Completed,  412747  Datapoints read!\n",
      "Completed,  412747  Labels read!\n",
      "==================================================\n",
      "Reading Data of Class L\n",
      "Completed,  418132  Datapoints read!\n",
      "Completed,  418132  Labels read!\n",
      "==================================================\n",
      "Reading Data of Class M\n",
      "Completed,  428159  Datapoints read!\n",
      "Completed,  428159  Labels read!\n",
      "==================================================\n",
      "Reading Data of Class N\n",
      "Completed,  437308  Datapoints read!\n",
      "Completed,  437308  Labels read!\n",
      "==================================================\n",
      "Reading Data of Class O\n",
      "Completed,  465988  Datapoints read!\n",
      "Completed,  465988  Labels read!\n",
      "==================================================\n",
      "Reading Data of Class P\n",
      "Completed,  475265  Datapoints read!\n",
      "Completed,  475265  Labels read!\n",
      "==================================================\n",
      "Reading Data of Class Q\n",
      "Completed,  477831  Datapoints read!\n",
      "Completed,  477831  Labels read!\n",
      "==================================================\n",
      "Reading Data of Class R\n",
      "Completed,  483266  Datapoints read!\n",
      "Completed,  483266  Labels read!\n",
      "==================================================\n",
      "Reading Data of Class S\n",
      "Completed,  507092  Datapoints read!\n",
      "Completed,  507092  Labels read!\n",
      "==================================================\n",
      "Reading Data of Class T\n",
      "Completed,  518019  Datapoints read!\n",
      "Completed,  518019  Labels read!\n",
      "==================================================\n",
      "Reading Data of Class U\n",
      "Completed,  532165  Datapoints read!\n",
      "Completed,  532165  Labels read!\n",
      "==================================================\n",
      "Reading Data of Class V\n",
      "Completed,  537116  Datapoints read!\n",
      "Completed,  537116  Labels read!\n",
      "==================================================\n",
      "Reading Data of Class W\n",
      "Completed,  542142  Datapoints read!\n",
      "Completed,  542142  Labels read!\n",
      "==================================================\n",
      "Reading Data of Class X\n",
      "Completed,  544873  Datapoints read!\n",
      "Completed,  544873  Labels read!\n",
      "==================================================\n",
      "Reading Data of Class Y\n",
      "Completed,  549961  Datapoints read!\n",
      "Completed,  549961  Labels read!\n",
      "==================================================\n",
      "Reading Data of Class Z\n",
      "Completed,  552659  Datapoints read!\n",
      "Completed,  552659  Labels read!\n",
      "==================================================\n",
      "Reading Data of Class a\n",
      "Completed,  563855  Datapoints read!\n",
      "Completed,  563855  Labels read!\n",
      "==================================================\n",
      "Reading Data of Class b\n",
      "Completed,  569406  Datapoints read!\n",
      "Completed,  569406  Labels read!\n",
      "==================================================\n",
      "Reading Data of Class c\n",
      "Completed,  572198  Datapoints read!\n",
      "Completed,  572198  Labels read!\n",
      "==================================================\n",
      "Reading Data of Class d\n",
      "Completed,  583619  Datapoints read!\n",
      "Completed,  583619  Labels read!\n",
      "==================================================\n",
      "Reading Data of Class e\n",
      "Completed,  611918  Datapoints read!\n",
      "Completed,  611918  Labels read!\n",
      "==================================================\n",
      "Reading Data of Class f\n",
      "Completed,  614411  Datapoints read!\n",
      "Completed,  614411  Labels read!\n",
      "==================================================\n",
      "Reading Data of Class g\n",
      "Completed,  618250  Datapoints read!\n",
      "Completed,  618250  Labels read!\n",
      "==================================================\n",
      "Reading Data of Class h\n",
      "Completed,  627963  Datapoints read!\n",
      "Completed,  627963  Labels read!\n",
      "==================================================\n",
      "Reading Data of Class i\n",
      "Completed,  630751  Datapoints read!\n",
      "Completed,  630751  Labels read!\n",
      "==================================================\n",
      "Reading Data of Class j\n",
      "Completed,  632664  Datapoints read!\n",
      "Completed,  632664  Labels read!\n",
      "==================================================\n",
      "Reading Data of Class k\n",
      "Completed,  635226  Datapoints read!\n",
      "Completed,  635226  Labels read!\n",
      "==================================================\n",
      "Reading Data of Class l\n",
      "Completed,  652163  Datapoints read!\n",
      "Completed,  652163  Labels read!\n",
      "==================================================\n",
      "Reading Data of Class m\n",
      "Completed,  654797  Datapoints read!\n",
      "Completed,  654797  Labels read!\n",
      "==================================================\n",
      "Reading Data of Class n\n",
      "Completed,  667653  Datapoints read!\n",
      "Completed,  667653  Labels read!\n",
      "==================================================\n",
      "Reading Data of Class o\n",
      "Completed,  670414  Datapoints read!\n",
      "Completed,  670414  Labels read!\n",
      "==================================================\n",
      "Reading Data of Class p\n",
      "Completed,  672815  Datapoints read!\n",
      "Completed,  672815  Labels read!\n",
      "==================================================\n",
      "Reading Data of Class q\n",
      "Completed,  675930  Datapoints read!\n",
      "Completed,  675930  Labels read!\n",
      "==================================================\n",
      "Reading Data of Class r\n",
      "Completed,  691864  Datapoints read!\n",
      "Completed,  691864  Labels read!\n",
      "==================================================\n",
      "Reading Data of Class s\n",
      "Completed,  694562  Datapoints read!\n",
      "Completed,  694562  Labels read!\n",
      "==================================================\n",
      "Reading Data of Class t\n",
      "Completed,  715355  Datapoints read!\n",
      "Completed,  715355  Labels read!\n",
      "==================================================\n",
      "Reading Data of Class u\n",
      "Completed,  718192  Datapoints read!\n",
      "Completed,  718192  Labels read!\n",
      "==================================================\n",
      "Reading Data of Class v\n",
      "Completed,  721046  Datapoints read!\n",
      "Completed,  721046  Labels read!\n",
      "==================================================\n",
      "Reading Data of Class w\n",
      "Completed,  723745  Datapoints read!\n",
      "Completed,  723745  Labels read!\n",
      "==================================================\n",
      "Reading Data of Class x\n",
      "Completed,  726565  Datapoints read!\n",
      "Completed,  726565  Labels read!\n",
      "==================================================\n",
      "Reading Data of Class y\n",
      "Completed,  728924  Datapoints read!\n",
      "Completed,  728924  Labels read!\n",
      "==================================================\n",
      "Reading Data of Class z\n",
      "Completed,  731650  Datapoints read!\n",
      "Completed,  731650  Labels read!\n",
      "==================================================\n",
      "731650\n",
      "(731650, 784)\n",
      "(731650, 1)\n"
     ]
    }
   ],
   "source": [
    "#appending the pics to the training data list\n",
    "training_data = []\n",
    "training_labels = []\n",
    "\n",
    "for index in range(62):\n",
    "    print(\"Reading Data of Class\", decodeLabel(index))\n",
    "\n",
    "    #setting the path to the directory containing the pics\n",
    "    path = f\"./Datasets/NIST19Cropped/{index}/\"\n",
    "\n",
    "    for img in os.listdir(path):\n",
    "        pic = cv2.imread(os.path.join(path,img))\n",
    "        height, width, _ = pic.shape\n",
    "        pic = cv2.cvtColor(pic,cv2.COLOR_BGR2GRAY)\n",
    "        new_pic = np.asarray(pic)\n",
    "        new_pic = new_pic.reshape(-1)\n",
    "        training_data.append(new_pic)\n",
    "        training_labels.append([str(index)])\n",
    "\n",
    "    print(\"Completed, \", len(training_data), \" Datapoints read!\")\n",
    "    print(\"Completed, \", len(training_labels), \" Labels read!\")\n",
    "    print(\"==================================================\")\n",
    "\n",
    "\n",
    "print(len(training_data))\n",
    "training_data = np.asarray(training_data)\n",
    "print(training_data.shape)\n",
    "training_labels = np.asarray(training_labels)\n",
    "print(training_labels.shape)"
   ]
  },
  {
   "cell_type": "code",
   "execution_count": 21,
   "metadata": {},
   "outputs": [],
   "source": [
    "X_nist_opencv_cropped = training_data\n",
    "y_nist_opencv_cropped = training_labels"
   ]
  },
  {
   "cell_type": "code",
   "execution_count": 223,
   "metadata": {},
   "outputs": [],
   "source": [
    "np.save(\"./Datasets/X_nist_opencv_cropped.npy\", X_nist_opencv_cropped)\n",
    "np.save(\"./Datasets/y_nist_opencv_cropped.npy\", y_nist_opencv_cropped)"
   ]
  },
  {
   "cell_type": "markdown",
   "metadata": {},
   "source": [
    "### 1.3. Zoomed NIST19 (With keras.layers.RandomZoom)"
   ]
  },
  {
   "cell_type": "markdown",
   "metadata": {},
   "source": [
    "#### Warning:"
   ]
  },
  {
   "cell_type": "markdown",
   "metadata": {},
   "source": [
    "Deprecated: tf.keras.preprocessing.image.ImageDataGenerator is not recommended for new code.\n",
    "\n",
    "Prefer loading images with tf.keras.utils.image_dataset_from_directory and transforming the output with Keras preprocessing layers.\n",
    "\n",
    "For more information:\n",
    "\n",
    "    1- https://www.tensorflow.org/api_docs/python/tf/keras/preprocessing/image/ImageDataGenerator\n",
    "    2- https://www.tensorflow.org/api_docs/python/tf/keras/utils/image_dataset_from_directory\n",
    "    3- https://www.tensorflow.org/tutorials/images/data_augmentation\n",
    "    4- https://www.tensorflow.org/api_docs/python/tf/keras/layers/RandomZoom\n",
    "\n",
    "Blog about ImageDataGenerator:\n",
    "\n",
    "    - https://blog.keras.io/building-powerful-image-classification-models-using-very-little-data.html"
   ]
  },
  {
   "cell_type": "markdown",
   "metadata": {},
   "source": [
    "#### Zooming the dataset and then saving"
   ]
  },
  {
   "cell_type": "code",
   "execution_count": 6,
   "metadata": {},
   "outputs": [],
   "source": [
    "X_nist_original = np.load(\"./Datasets/X_nist_original.npy\")\n",
    "y_nist_original = np.load(\"./Datasets/y_nist_original.npy\")"
   ]
  },
  {
   "cell_type": "markdown",
   "metadata": {},
   "source": [
    "tf.keras.layers.RandomZoom(\n",
    "    height_factor,\n",
    "    width_factor=None,\n",
    "    fill_mode='reflect',\n",
    "    interpolation='bilinear',\n",
    "    seed=None,\n",
    "    fill_value=0.0,\n",
    "    **kwargs\n",
    ")\n",
    "\n",
    "height_factor:  a float represented as fraction of value, or a tuple of size 2 representing lower and upper bound for zooming vertically. When represented as a single float, this value is used for both the upper and lower bound. A positive value means zooming out, while a negative value means zooming in. For instance, height_factor=(0.2, 0.3) result in an output zoomed out by a random amount in the range [+20%, +30%]. height_factor=(-0.3, -0.2) result in an output zoomed in by a random amount in the range [+20%, +30%].\n",
    "\n",
    "width_factor: a float represented as fraction of value, or a tuple of size 2 representing lower and upper bound for zooming horizontally. When represented as a single float, this value is used for both the upper and lower bound. For instance, width_factor=(0.2, 0.3) result in an output zooming out between 20% to 30%. width_factor=(-0.3, -0.2) result in an output zooming in between 20% to 30%. Defaults to None, i.e., zooming vertical and horizontal directions by preserving the aspect ratio.\n",
    "\n",
    "fill_mode: Points outside the boundaries of the input are filled according to the given mode (one of {\"constant\", \"reflect\", \"wrap\", \"nearest\"}).\n",
    "\n",
    "    - reflect: (d c b a | a b c d | d c b a) The input is extended by reflecting about the edge of the last pixel.\n",
    "    - constant: (k k k k | a b c d | k k k k) The input is extended by filling all values beyond the edge with the same constant value k = 0.\n",
    "    - wrap: (a b c d | a b c d | a b c d) The input is extended by wrapping around to the opposite edge.\n",
    "    - nearest: (a a a a | a b c d | d d d d) The input is extended by the nearest pixel.\n",
    "\n",
    "interpolation: Interpolation mode. Supported values: \"nearest\", \"bilinear\".\n",
    "\n",
    "seed: Integer. Used to create a random seed.\n",
    "\n",
    "fill_value: a float represents the value to be filled outside the boundaries when fill_mode=\"constant\"."
   ]
  },
  {
   "cell_type": "code",
   "execution_count": 72,
   "metadata": {},
   "outputs": [],
   "source": [
    "zoomer = tf.keras.Sequential([\n",
    "    tf.keras.layers.RandomZoom(.25, seed=42) # the zooming range will be between [1-.25, 1+.25] => [0.75, 1.25]\n",
    "])"
   ]
  },
  {
   "cell_type": "code",
   "execution_count": 206,
   "metadata": {},
   "outputs": [
    {
     "data": {
      "text/plain": [
       "(731656, 28, 28)"
      ]
     },
     "execution_count": 206,
     "metadata": {},
     "output_type": "execute_result"
    }
   ],
   "source": [
    "X_nist_original_reshaped = X_nist_original.reshape(-1, 28, 28)\n",
    "X_nist_original_reshaped.shape"
   ]
  },
  {
   "cell_type": "code",
   "execution_count": 214,
   "metadata": {},
   "outputs": [
    {
     "name": "stdout",
     "output_type": "stream",
     "text": [
      "(731656, 28, 28)\n",
      "(731656, 784)\n"
     ]
    }
   ],
   "source": [
    "X_nist_random_zoomed = zoomer(X_nist_original_reshaped)\n",
    "X_nist_random_zoomed = X_nist_random_zoomed.numpy()\n",
    "X_nist_random_zoomed = X_nist_random_zoomed.reshape(-1, 784)\n"
   ]
  },
  {
   "cell_type": "code",
   "execution_count": 216,
   "metadata": {},
   "outputs": [],
   "source": [
    "y_nist_random_zoomed = y_nist_original"
   ]
  },
  {
   "cell_type": "code",
   "execution_count": 224,
   "metadata": {},
   "outputs": [],
   "source": [
    "np.save(\"./Datasets/X_nist_keras_random_zoomed.npy\", X_nist_random_zoomed)\n",
    "np.save(\"./Datasets/y_nist_keras_random_zoomed.npy\", y_nist_random_zoomed)"
   ]
  },
  {
   "cell_type": "markdown",
   "metadata": {},
   "source": [
    "### 1.4. T-H-E"
   ]
  },
  {
   "cell_type": "markdown",
   "metadata": {},
   "source": [
    "##### 1.4.1. Loading the dataset"
   ]
  },
  {
   "cell_type": "code",
   "execution_count": 49,
   "metadata": {},
   "outputs": [
    {
     "name": "stdout",
     "output_type": "stream",
     "text": [
      "Shape of complete dataset:  (76000, 785)\n"
     ]
    },
    {
     "data": {
      "text/html": [
       "<div>\n",
       "<style scoped>\n",
       "    .dataframe tbody tr th:only-of-type {\n",
       "        vertical-align: middle;\n",
       "    }\n",
       "\n",
       "    .dataframe tbody tr th {\n",
       "        vertical-align: top;\n",
       "    }\n",
       "\n",
       "    .dataframe thead th {\n",
       "        text-align: right;\n",
       "    }\n",
       "</style>\n",
       "<table border=\"1\" class=\"dataframe\">\n",
       "  <thead>\n",
       "    <tr style=\"text-align: right;\">\n",
       "      <th></th>\n",
       "      <th>Label</th>\n",
       "      <th>Pixel1</th>\n",
       "      <th>Pixel2</th>\n",
       "      <th>Pixel3</th>\n",
       "      <th>Pixel4</th>\n",
       "      <th>Pixel5</th>\n",
       "      <th>Pixel6</th>\n",
       "      <th>Pixel7</th>\n",
       "      <th>Pixel8</th>\n",
       "      <th>Pixel9</th>\n",
       "      <th>...</th>\n",
       "      <th>Pixel775</th>\n",
       "      <th>Pixel776</th>\n",
       "      <th>Pixel777</th>\n",
       "      <th>Pixel778</th>\n",
       "      <th>Pixel779</th>\n",
       "      <th>Pixel780</th>\n",
       "      <th>Pixel781</th>\n",
       "      <th>Pixel782</th>\n",
       "      <th>Pixel783</th>\n",
       "      <th>Pixel784</th>\n",
       "    </tr>\n",
       "  </thead>\n",
       "  <tbody>\n",
       "    <tr>\n",
       "      <th>0</th>\n",
       "      <td>27</td>\n",
       "      <td>0</td>\n",
       "      <td>0</td>\n",
       "      <td>0</td>\n",
       "      <td>0</td>\n",
       "      <td>0</td>\n",
       "      <td>0</td>\n",
       "      <td>0</td>\n",
       "      <td>0</td>\n",
       "      <td>0</td>\n",
       "      <td>...</td>\n",
       "      <td>0</td>\n",
       "      <td>0</td>\n",
       "      <td>0</td>\n",
       "      <td>0</td>\n",
       "      <td>0</td>\n",
       "      <td>0</td>\n",
       "      <td>0</td>\n",
       "      <td>0</td>\n",
       "      <td>0</td>\n",
       "      <td>0</td>\n",
       "    </tr>\n",
       "    <tr>\n",
       "      <th>1</th>\n",
       "      <td>27</td>\n",
       "      <td>0</td>\n",
       "      <td>0</td>\n",
       "      <td>0</td>\n",
       "      <td>0</td>\n",
       "      <td>0</td>\n",
       "      <td>0</td>\n",
       "      <td>0</td>\n",
       "      <td>0</td>\n",
       "      <td>0</td>\n",
       "      <td>...</td>\n",
       "      <td>0</td>\n",
       "      <td>0</td>\n",
       "      <td>0</td>\n",
       "      <td>0</td>\n",
       "      <td>0</td>\n",
       "      <td>0</td>\n",
       "      <td>0</td>\n",
       "      <td>0</td>\n",
       "      <td>0</td>\n",
       "      <td>0</td>\n",
       "    </tr>\n",
       "    <tr>\n",
       "      <th>2</th>\n",
       "      <td>27</td>\n",
       "      <td>0</td>\n",
       "      <td>0</td>\n",
       "      <td>0</td>\n",
       "      <td>0</td>\n",
       "      <td>0</td>\n",
       "      <td>0</td>\n",
       "      <td>0</td>\n",
       "      <td>0</td>\n",
       "      <td>0</td>\n",
       "      <td>...</td>\n",
       "      <td>0</td>\n",
       "      <td>0</td>\n",
       "      <td>0</td>\n",
       "      <td>0</td>\n",
       "      <td>0</td>\n",
       "      <td>0</td>\n",
       "      <td>0</td>\n",
       "      <td>0</td>\n",
       "      <td>0</td>\n",
       "      <td>0</td>\n",
       "    </tr>\n",
       "    <tr>\n",
       "      <th>3</th>\n",
       "      <td>27</td>\n",
       "      <td>0</td>\n",
       "      <td>0</td>\n",
       "      <td>0</td>\n",
       "      <td>0</td>\n",
       "      <td>0</td>\n",
       "      <td>0</td>\n",
       "      <td>0</td>\n",
       "      <td>0</td>\n",
       "      <td>0</td>\n",
       "      <td>...</td>\n",
       "      <td>0</td>\n",
       "      <td>0</td>\n",
       "      <td>0</td>\n",
       "      <td>0</td>\n",
       "      <td>0</td>\n",
       "      <td>0</td>\n",
       "      <td>0</td>\n",
       "      <td>0</td>\n",
       "      <td>0</td>\n",
       "      <td>0</td>\n",
       "    </tr>\n",
       "    <tr>\n",
       "      <th>4</th>\n",
       "      <td>27</td>\n",
       "      <td>0</td>\n",
       "      <td>0</td>\n",
       "      <td>0</td>\n",
       "      <td>0</td>\n",
       "      <td>0</td>\n",
       "      <td>0</td>\n",
       "      <td>0</td>\n",
       "      <td>0</td>\n",
       "      <td>0</td>\n",
       "      <td>...</td>\n",
       "      <td>0</td>\n",
       "      <td>0</td>\n",
       "      <td>0</td>\n",
       "      <td>0</td>\n",
       "      <td>0</td>\n",
       "      <td>0</td>\n",
       "      <td>0</td>\n",
       "      <td>0</td>\n",
       "      <td>0</td>\n",
       "      <td>0</td>\n",
       "    </tr>\n",
       "  </tbody>\n",
       "</table>\n",
       "<p>5 rows × 785 columns</p>\n",
       "</div>"
      ],
      "text/plain": [
       "   Label  Pixel1  Pixel2  Pixel3  Pixel4  Pixel5  Pixel6  Pixel7  Pixel8  \\\n",
       "0     27       0       0       0       0       0       0       0       0   \n",
       "1     27       0       0       0       0       0       0       0       0   \n",
       "2     27       0       0       0       0       0       0       0       0   \n",
       "3     27       0       0       0       0       0       0       0       0   \n",
       "4     27       0       0       0       0       0       0       0       0   \n",
       "\n",
       "   Pixel9  ...  Pixel775  Pixel776  Pixel777  Pixel778  Pixel779  Pixel780  \\\n",
       "0       0  ...         0         0         0         0         0         0   \n",
       "1       0  ...         0         0         0         0         0         0   \n",
       "2       0  ...         0         0         0         0         0         0   \n",
       "3       0  ...         0         0         0         0         0         0   \n",
       "4       0  ...         0         0         0         0         0         0   \n",
       "\n",
       "   Pixel781  Pixel782  Pixel783  Pixel784  \n",
       "0         0         0         0         0  \n",
       "1         0         0         0         0  \n",
       "2         0         0         0         0  \n",
       "3         0         0         0         0  \n",
       "4         0         0         0         0  \n",
       "\n",
       "[5 rows x 785 columns]"
      ]
     },
     "execution_count": 49,
     "metadata": {},
     "output_type": "execute_result"
    }
   ],
   "source": [
    "a=['Label']\n",
    "\n",
    "for i in range(784):\n",
    "    a.append('Pixel'+str(i+1))\n",
    "\n",
    "# Only Original Character Version\n",
    "the_path = './Datasets/T-H-E/version6.csv'\n",
    "the_df = pd.read_csv(the_path, delimiter=',', names=a)\n",
    "print('Shape of complete dataset: ', the_df.shape)\n",
    "\n",
    "the_df.head()"
   ]
  },
  {
   "cell_type": "code",
   "execution_count": 50,
   "metadata": {},
   "outputs": [
    {
     "data": {
      "text/plain": [
       "63    1000\n",
       "15    1000\n",
       "75    1000\n",
       "12    1000\n",
       "76    1000\n",
       "      ... \n",
       "39    1000\n",
       "40    1000\n",
       "41    1000\n",
       "42    1000\n",
       "64    1000\n",
       "Name: Label, Length: 76, dtype: int64"
      ]
     },
     "execution_count": 50,
     "metadata": {},
     "output_type": "execute_result"
    }
   ],
   "source": [
    "the_df[\"Label\"].value_counts()"
   ]
  },
  {
   "cell_type": "code",
   "execution_count": 51,
   "metadata": {},
   "outputs": [
    {
     "data": {
      "text/plain": [
       "[63,\n",
       " 15,\n",
       " 75,\n",
       " 12,\n",
       " 76,\n",
       " 13,\n",
       " 77,\n",
       " 14,\n",
       " 78,\n",
       " 16,\n",
       " 62,\n",
       " 17,\n",
       " 18,\n",
       " 19,\n",
       " 20,\n",
       " 21,\n",
       " 22,\n",
       " 23,\n",
       " 11,\n",
       " 74,\n",
       " 10,\n",
       " 73,\n",
       " 1,\n",
       " 65,\n",
       " 2,\n",
       " 3,\n",
       " 67,\n",
       " 4,\n",
       " 68,\n",
       " 5,\n",
       " 6,\n",
       " 70,\n",
       " 7,\n",
       " 71,\n",
       " 8,\n",
       " 72,\n",
       " 9,\n",
       " 24,\n",
       " 25,\n",
       " 26,\n",
       " 45,\n",
       " 47,\n",
       " 48,\n",
       " 49,\n",
       " 50,\n",
       " 51,\n",
       " 52,\n",
       " 53,\n",
       " 54,\n",
       " 55,\n",
       " 56,\n",
       " 57,\n",
       " 58,\n",
       " 59,\n",
       " 60,\n",
       " 61,\n",
       " 46,\n",
       " 44,\n",
       " 27,\n",
       " 43,\n",
       " 28,\n",
       " 29,\n",
       " 30,\n",
       " 31,\n",
       " 32,\n",
       " 33,\n",
       " 34,\n",
       " 35,\n",
       " 36,\n",
       " 37,\n",
       " 38,\n",
       " 39,\n",
       " 40,\n",
       " 41,\n",
       " 42,\n",
       " 64]"
      ]
     },
     "execution_count": 51,
     "metadata": {},
     "output_type": "execute_result"
    }
   ],
   "source": [
    "the_df['Label'].value_counts().index.tolist()"
   ]
  },
  {
   "cell_type": "markdown",
   "metadata": {},
   "source": [
    "Extracting only the data of the turkish characters from the whole dataset"
   ]
  },
  {
   "cell_type": "code",
   "execution_count": 52,
   "metadata": {},
   "outputs": [
    {
     "name": "stdout",
     "output_type": "stream",
     "text": [
      "Shape of complete dataset:  (10000, 785)\n"
     ]
    },
    {
     "data": {
      "text/html": [
       "<div>\n",
       "<style scoped>\n",
       "    .dataframe tbody tr th:only-of-type {\n",
       "        vertical-align: middle;\n",
       "    }\n",
       "\n",
       "    .dataframe tbody tr th {\n",
       "        vertical-align: top;\n",
       "    }\n",
       "\n",
       "    .dataframe thead th {\n",
       "        text-align: right;\n",
       "    }\n",
       "</style>\n",
       "<table border=\"1\" class=\"dataframe\">\n",
       "  <thead>\n",
       "    <tr style=\"text-align: right;\">\n",
       "      <th></th>\n",
       "      <th>Label</th>\n",
       "      <th>Pixel1</th>\n",
       "      <th>Pixel2</th>\n",
       "      <th>Pixel3</th>\n",
       "      <th>Pixel4</th>\n",
       "      <th>Pixel5</th>\n",
       "      <th>Pixel6</th>\n",
       "      <th>Pixel7</th>\n",
       "      <th>Pixel8</th>\n",
       "      <th>Pixel9</th>\n",
       "      <th>...</th>\n",
       "      <th>Pixel775</th>\n",
       "      <th>Pixel776</th>\n",
       "      <th>Pixel777</th>\n",
       "      <th>Pixel778</th>\n",
       "      <th>Pixel779</th>\n",
       "      <th>Pixel780</th>\n",
       "      <th>Pixel781</th>\n",
       "      <th>Pixel782</th>\n",
       "      <th>Pixel783</th>\n",
       "      <th>Pixel784</th>\n",
       "    </tr>\n",
       "  </thead>\n",
       "  <tbody>\n",
       "    <tr>\n",
       "      <th>0</th>\n",
       "      <td>27</td>\n",
       "      <td>0</td>\n",
       "      <td>0</td>\n",
       "      <td>0</td>\n",
       "      <td>0</td>\n",
       "      <td>0</td>\n",
       "      <td>0</td>\n",
       "      <td>0</td>\n",
       "      <td>0</td>\n",
       "      <td>0</td>\n",
       "      <td>...</td>\n",
       "      <td>0</td>\n",
       "      <td>0</td>\n",
       "      <td>0</td>\n",
       "      <td>0</td>\n",
       "      <td>0</td>\n",
       "      <td>0</td>\n",
       "      <td>0</td>\n",
       "      <td>0</td>\n",
       "      <td>0</td>\n",
       "      <td>0</td>\n",
       "    </tr>\n",
       "    <tr>\n",
       "      <th>1</th>\n",
       "      <td>27</td>\n",
       "      <td>0</td>\n",
       "      <td>0</td>\n",
       "      <td>0</td>\n",
       "      <td>0</td>\n",
       "      <td>0</td>\n",
       "      <td>0</td>\n",
       "      <td>0</td>\n",
       "      <td>0</td>\n",
       "      <td>0</td>\n",
       "      <td>...</td>\n",
       "      <td>0</td>\n",
       "      <td>0</td>\n",
       "      <td>0</td>\n",
       "      <td>0</td>\n",
       "      <td>0</td>\n",
       "      <td>0</td>\n",
       "      <td>0</td>\n",
       "      <td>0</td>\n",
       "      <td>0</td>\n",
       "      <td>0</td>\n",
       "    </tr>\n",
       "    <tr>\n",
       "      <th>2</th>\n",
       "      <td>27</td>\n",
       "      <td>0</td>\n",
       "      <td>0</td>\n",
       "      <td>0</td>\n",
       "      <td>0</td>\n",
       "      <td>0</td>\n",
       "      <td>0</td>\n",
       "      <td>0</td>\n",
       "      <td>0</td>\n",
       "      <td>0</td>\n",
       "      <td>...</td>\n",
       "      <td>0</td>\n",
       "      <td>0</td>\n",
       "      <td>0</td>\n",
       "      <td>0</td>\n",
       "      <td>0</td>\n",
       "      <td>0</td>\n",
       "      <td>0</td>\n",
       "      <td>0</td>\n",
       "      <td>0</td>\n",
       "      <td>0</td>\n",
       "    </tr>\n",
       "    <tr>\n",
       "      <th>3</th>\n",
       "      <td>27</td>\n",
       "      <td>0</td>\n",
       "      <td>0</td>\n",
       "      <td>0</td>\n",
       "      <td>0</td>\n",
       "      <td>0</td>\n",
       "      <td>0</td>\n",
       "      <td>0</td>\n",
       "      <td>0</td>\n",
       "      <td>0</td>\n",
       "      <td>...</td>\n",
       "      <td>0</td>\n",
       "      <td>0</td>\n",
       "      <td>0</td>\n",
       "      <td>0</td>\n",
       "      <td>0</td>\n",
       "      <td>0</td>\n",
       "      <td>0</td>\n",
       "      <td>0</td>\n",
       "      <td>0</td>\n",
       "      <td>0</td>\n",
       "    </tr>\n",
       "    <tr>\n",
       "      <th>4</th>\n",
       "      <td>27</td>\n",
       "      <td>0</td>\n",
       "      <td>0</td>\n",
       "      <td>0</td>\n",
       "      <td>0</td>\n",
       "      <td>0</td>\n",
       "      <td>0</td>\n",
       "      <td>0</td>\n",
       "      <td>0</td>\n",
       "      <td>0</td>\n",
       "      <td>...</td>\n",
       "      <td>0</td>\n",
       "      <td>0</td>\n",
       "      <td>0</td>\n",
       "      <td>0</td>\n",
       "      <td>0</td>\n",
       "      <td>0</td>\n",
       "      <td>0</td>\n",
       "      <td>0</td>\n",
       "      <td>0</td>\n",
       "      <td>0</td>\n",
       "    </tr>\n",
       "    <tr>\n",
       "      <th>...</th>\n",
       "      <td>...</td>\n",
       "      <td>...</td>\n",
       "      <td>...</td>\n",
       "      <td>...</td>\n",
       "      <td>...</td>\n",
       "      <td>...</td>\n",
       "      <td>...</td>\n",
       "      <td>...</td>\n",
       "      <td>...</td>\n",
       "      <td>...</td>\n",
       "      <td>...</td>\n",
       "      <td>...</td>\n",
       "      <td>...</td>\n",
       "      <td>...</td>\n",
       "      <td>...</td>\n",
       "      <td>...</td>\n",
       "      <td>...</td>\n",
       "      <td>...</td>\n",
       "      <td>...</td>\n",
       "      <td>...</td>\n",
       "      <td>...</td>\n",
       "    </tr>\n",
       "    <tr>\n",
       "      <th>9995</th>\n",
       "      <td>71</td>\n",
       "      <td>0</td>\n",
       "      <td>0</td>\n",
       "      <td>0</td>\n",
       "      <td>0</td>\n",
       "      <td>0</td>\n",
       "      <td>0</td>\n",
       "      <td>0</td>\n",
       "      <td>0</td>\n",
       "      <td>0</td>\n",
       "      <td>...</td>\n",
       "      <td>0</td>\n",
       "      <td>0</td>\n",
       "      <td>0</td>\n",
       "      <td>0</td>\n",
       "      <td>0</td>\n",
       "      <td>0</td>\n",
       "      <td>0</td>\n",
       "      <td>0</td>\n",
       "      <td>0</td>\n",
       "      <td>0</td>\n",
       "    </tr>\n",
       "    <tr>\n",
       "      <th>9996</th>\n",
       "      <td>71</td>\n",
       "      <td>0</td>\n",
       "      <td>0</td>\n",
       "      <td>0</td>\n",
       "      <td>0</td>\n",
       "      <td>0</td>\n",
       "      <td>0</td>\n",
       "      <td>0</td>\n",
       "      <td>0</td>\n",
       "      <td>0</td>\n",
       "      <td>...</td>\n",
       "      <td>0</td>\n",
       "      <td>0</td>\n",
       "      <td>0</td>\n",
       "      <td>0</td>\n",
       "      <td>0</td>\n",
       "      <td>0</td>\n",
       "      <td>0</td>\n",
       "      <td>0</td>\n",
       "      <td>0</td>\n",
       "      <td>0</td>\n",
       "    </tr>\n",
       "    <tr>\n",
       "      <th>9997</th>\n",
       "      <td>71</td>\n",
       "      <td>0</td>\n",
       "      <td>0</td>\n",
       "      <td>0</td>\n",
       "      <td>0</td>\n",
       "      <td>0</td>\n",
       "      <td>0</td>\n",
       "      <td>0</td>\n",
       "      <td>0</td>\n",
       "      <td>0</td>\n",
       "      <td>...</td>\n",
       "      <td>0</td>\n",
       "      <td>0</td>\n",
       "      <td>0</td>\n",
       "      <td>0</td>\n",
       "      <td>0</td>\n",
       "      <td>0</td>\n",
       "      <td>0</td>\n",
       "      <td>0</td>\n",
       "      <td>0</td>\n",
       "      <td>0</td>\n",
       "    </tr>\n",
       "    <tr>\n",
       "      <th>9998</th>\n",
       "      <td>71</td>\n",
       "      <td>0</td>\n",
       "      <td>0</td>\n",
       "      <td>0</td>\n",
       "      <td>0</td>\n",
       "      <td>0</td>\n",
       "      <td>0</td>\n",
       "      <td>0</td>\n",
       "      <td>0</td>\n",
       "      <td>0</td>\n",
       "      <td>...</td>\n",
       "      <td>0</td>\n",
       "      <td>0</td>\n",
       "      <td>0</td>\n",
       "      <td>0</td>\n",
       "      <td>0</td>\n",
       "      <td>0</td>\n",
       "      <td>0</td>\n",
       "      <td>0</td>\n",
       "      <td>0</td>\n",
       "      <td>0</td>\n",
       "    </tr>\n",
       "    <tr>\n",
       "      <th>9999</th>\n",
       "      <td>71</td>\n",
       "      <td>0</td>\n",
       "      <td>0</td>\n",
       "      <td>0</td>\n",
       "      <td>0</td>\n",
       "      <td>0</td>\n",
       "      <td>0</td>\n",
       "      <td>0</td>\n",
       "      <td>0</td>\n",
       "      <td>0</td>\n",
       "      <td>...</td>\n",
       "      <td>0</td>\n",
       "      <td>0</td>\n",
       "      <td>0</td>\n",
       "      <td>0</td>\n",
       "      <td>0</td>\n",
       "      <td>0</td>\n",
       "      <td>0</td>\n",
       "      <td>0</td>\n",
       "      <td>0</td>\n",
       "      <td>0</td>\n",
       "    </tr>\n",
       "  </tbody>\n",
       "</table>\n",
       "<p>10000 rows × 785 columns</p>\n",
       "</div>"
      ],
      "text/plain": [
       "      Label  Pixel1  Pixel2  Pixel3  Pixel4  Pixel5  Pixel6  Pixel7  Pixel8  \\\n",
       "0        27       0       0       0       0       0       0       0       0   \n",
       "1        27       0       0       0       0       0       0       0       0   \n",
       "2        27       0       0       0       0       0       0       0       0   \n",
       "3        27       0       0       0       0       0       0       0       0   \n",
       "4        27       0       0       0       0       0       0       0       0   \n",
       "...     ...     ...     ...     ...     ...     ...     ...     ...     ...   \n",
       "9995     71       0       0       0       0       0       0       0       0   \n",
       "9996     71       0       0       0       0       0       0       0       0   \n",
       "9997     71       0       0       0       0       0       0       0       0   \n",
       "9998     71       0       0       0       0       0       0       0       0   \n",
       "9999     71       0       0       0       0       0       0       0       0   \n",
       "\n",
       "      Pixel9  ...  Pixel775  Pixel776  Pixel777  Pixel778  Pixel779  Pixel780  \\\n",
       "0          0  ...         0         0         0         0         0         0   \n",
       "1          0  ...         0         0         0         0         0         0   \n",
       "2          0  ...         0         0         0         0         0         0   \n",
       "3          0  ...         0         0         0         0         0         0   \n",
       "4          0  ...         0         0         0         0         0         0   \n",
       "...      ...  ...       ...       ...       ...       ...       ...       ...   \n",
       "9995       0  ...         0         0         0         0         0         0   \n",
       "9996       0  ...         0         0         0         0         0         0   \n",
       "9997       0  ...         0         0         0         0         0         0   \n",
       "9998       0  ...         0         0         0         0         0         0   \n",
       "9999       0  ...         0         0         0         0         0         0   \n",
       "\n",
       "      Pixel781  Pixel782  Pixel783  Pixel784  \n",
       "0            0         0         0         0  \n",
       "1            0         0         0         0  \n",
       "2            0         0         0         0  \n",
       "3            0         0         0         0  \n",
       "4            0         0         0         0  \n",
       "...        ...       ...       ...       ...  \n",
       "9995         0         0         0         0  \n",
       "9996         0         0         0         0  \n",
       "9997         0         0         0         0  \n",
       "9998         0         0         0         0  \n",
       "9999         0         0         0         0  \n",
       "\n",
       "[10000 rows x 785 columns]"
      ]
     },
     "execution_count": 52,
     "metadata": {},
     "output_type": "execute_result"
    }
   ],
   "source": [
    "turkish_classes = [27, 28, 29, 30, 31, 32, 67, 68, 70, 71]\n",
    "the_tr_df = the_df[the_df[\"Label\"].isin(turkish_classes)]\n",
    "print('Shape of complete dataset: ', the_tr_df.shape)\n",
    "the_tr_df.reset_index(drop=True)"
   ]
  },
  {
   "cell_type": "markdown",
   "metadata": {},
   "source": [
    "##### 1.4.2. Plotting the class distribution of the dataset"
   ]
  },
  {
   "cell_type": "code",
   "execution_count": 53,
   "metadata": {},
   "outputs": [],
   "source": [
    "letters_names = [\"Ö\", \"ö\", \"İ\", \"ı\", \"Ü\", \"ü\", \"Ğ\", \"ğ\", \"ç\", \"ş\"] # Ş und Ç fehlen\n",
    "frequecies = [\n",
    "                the_tr_df['Label'].value_counts()[70],\n",
    "                the_tr_df['Label'].value_counts()[31],\n",
    "                the_tr_df['Label'].value_counts()[68],\n",
    "                the_tr_df['Label'].value_counts()[29],\n",
    "                the_tr_df['Label'].value_counts()[71],\n",
    "                the_tr_df['Label'].value_counts()[32],\n",
    "                the_tr_df['Label'].value_counts()[67],\n",
    "                the_tr_df['Label'].value_counts()[28],\n",
    "                the_tr_df['Label'].value_counts()[27],\n",
    "                the_tr_df['Label'].value_counts()[30],\n",
    "            ]\n",
    "\n",
    "data = {\n",
    "    'Letters': letters_names,\n",
    "    '#Data Points': frequecies\n",
    "    }\n",
    "freq_df = pd.DataFrame(data)\n",
    "\n",
    "data_de = {\n",
    "    'Buchstaben': letters_names,\n",
    "    '#Datenpunkte': frequecies\n",
    "    }\n",
    "freq_de_df = pd.DataFrame(data_de)"
   ]
  },
  {
   "cell_type": "code",
   "execution_count": 54,
   "metadata": {},
   "outputs": [
    {
     "name": "stdout",
     "output_type": "stream",
     "text": [
      "Saving figure T-H-E (Except Ş, Ç)\n",
      "Saving figure T-H-E (Except Ş, Ç) Deutsch\n"
     ]
    },
    {
     "data": {
      "image/png": "[encoded data removed]",
      "text/plain": [
       "<Figure size 864x576 with 1 Axes>"
      ]
     },
     "metadata": {
      "needs_background": "light"
     },
     "output_type": "display_data"
    },
    {
     "data": {
      "image/png": "[encoded data removed]",
      "text/plain": [
       "<Figure size 864x576 with 1 Axes>"
      ]
     },
     "metadata": {
      "needs_background": "light"
     },
     "output_type": "display_data"
    }
   ],
   "source": [
    "freq_catplot = sns.catplot(x=\"Letters\", y=\"#Data Points\", kind=\"bar\", height=8, aspect=1.5, orient='v',  data=freq_df)\n",
    "freq_catplot.set_yticklabels(fontsize=12, rotation=0)\n",
    "ax4 = freq_catplot.facet_axis(0,0)\n",
    "for p in ax4.patches:\n",
    "    ax4.text(p.get_x() - 0.01,\n",
    "            p.get_height() * 1.02,\n",
    "            '{0:.1f}K'.format(p.get_height()/1000),   #Used to format it K representation\n",
    "            color='black',\n",
    "            rotation='horizontal',\n",
    "            size='large')\n",
    "\n",
    "save_fig('T-H-E (Except Ş, Ç)', tight_layout=False)\n",
    "\n",
    "freq_de_catplot = sns.catplot(x=\"Buchstaben\", y=\"#Datenpunkte\", kind=\"bar\", height=8, aspect=1.5, orient='v',  data=freq_de_df)\n",
    "freq_de_catplot.set_yticklabels(fontsize=12, rotation=0)\n",
    "ax4 = freq_de_catplot.facet_axis(0,0)\n",
    "for p in ax4.patches:\n",
    "    ax4.text(p.get_x() - 0.01,\n",
    "            p.get_height() * 1.02,\n",
    "            '{0:.1f}K'.format(p.get_height()/1000),   #Used to format it K representation\n",
    "            color='black',\n",
    "            rotation='horizontal',\n",
    "            size='large')\n",
    "\n",
    "save_fig('T-H-E (Except Ş, Ç) Deutsch', tight_layout=False)"
   ]
  },
  {
   "cell_type": "markdown",
   "metadata": {},
   "source": [
    "##### 1.4.3. Changing Labels into Extended ASCII (with Unicode UCS-2 Character Encoding)"
   ]
  },
  {
   "cell_type": "markdown",
   "metadata": {},
   "source": [
    "To make the conversion between numerical label and the actual character value easier, the UCS-2 Character encoding is better to use than another encodings as Python is built with UCS2 Unicode, and the built-in functions `ord()` and `chr()` can do the all work on converting between actual characters and encoded values.\n",
    "\n",
    "For more, see the following:\n",
    "- [The whole UCS-2 Unicode code chart](http://www.columbia.edu/kermit/ucs2.html)\n",
    "- [The function ord()](https://www.geeksforgeeks.org/ord-function-python/)\n",
    "- [The function chr()](https://www.geeksforgeeks.org/chr-in-python/)"
   ]
  },
  {
   "cell_type": "code",
   "execution_count": 26,
   "metadata": {},
   "outputs": [],
   "source": [
    "the_tr_df = the_tr_df.replace({'Label' : {68:63, 70:64, 71:65, 67:62}})\n",
    "the_tr_df = the_tr_df.replace({'Label' : {32:71, 27:66, 29:68, 31:69, 30:70, 28:67}})"
   ]
  },
  {
   "cell_type": "code",
   "execution_count": 27,
   "metadata": {},
   "outputs": [
    {
     "data": {
      "text/html": [
       "<div>\n",
       "<style scoped>\n",
       "    .dataframe tbody tr th:only-of-type {\n",
       "        vertical-align: middle;\n",
       "    }\n",
       "\n",
       "    .dataframe tbody tr th {\n",
       "        vertical-align: top;\n",
       "    }\n",
       "\n",
       "    .dataframe thead th {\n",
       "        text-align: right;\n",
       "    }\n",
       "</style>\n",
       "<table border=\"1\" class=\"dataframe\">\n",
       "  <thead>\n",
       "    <tr style=\"text-align: right;\">\n",
       "      <th></th>\n",
       "      <th>Label</th>\n",
       "      <th>Pixel1</th>\n",
       "      <th>Pixel2</th>\n",
       "      <th>Pixel3</th>\n",
       "      <th>Pixel4</th>\n",
       "      <th>Pixel5</th>\n",
       "      <th>Pixel6</th>\n",
       "      <th>Pixel7</th>\n",
       "      <th>Pixel8</th>\n",
       "      <th>Pixel9</th>\n",
       "      <th>...</th>\n",
       "      <th>Pixel775</th>\n",
       "      <th>Pixel776</th>\n",
       "      <th>Pixel777</th>\n",
       "      <th>Pixel778</th>\n",
       "      <th>Pixel779</th>\n",
       "      <th>Pixel780</th>\n",
       "      <th>Pixel781</th>\n",
       "      <th>Pixel782</th>\n",
       "      <th>Pixel783</th>\n",
       "      <th>Pixel784</th>\n",
       "    </tr>\n",
       "  </thead>\n",
       "  <tbody>\n",
       "    <tr>\n",
       "      <th>0</th>\n",
       "      <td>66</td>\n",
       "      <td>0</td>\n",
       "      <td>0</td>\n",
       "      <td>0</td>\n",
       "      <td>0</td>\n",
       "      <td>0</td>\n",
       "      <td>0</td>\n",
       "      <td>0</td>\n",
       "      <td>0</td>\n",
       "      <td>0</td>\n",
       "      <td>...</td>\n",
       "      <td>0</td>\n",
       "      <td>0</td>\n",
       "      <td>0</td>\n",
       "      <td>0</td>\n",
       "      <td>0</td>\n",
       "      <td>0</td>\n",
       "      <td>0</td>\n",
       "      <td>0</td>\n",
       "      <td>0</td>\n",
       "      <td>0</td>\n",
       "    </tr>\n",
       "    <tr>\n",
       "      <th>1</th>\n",
       "      <td>66</td>\n",
       "      <td>0</td>\n",
       "      <td>0</td>\n",
       "      <td>0</td>\n",
       "      <td>0</td>\n",
       "      <td>0</td>\n",
       "      <td>0</td>\n",
       "      <td>0</td>\n",
       "      <td>0</td>\n",
       "      <td>0</td>\n",
       "      <td>...</td>\n",
       "      <td>0</td>\n",
       "      <td>0</td>\n",
       "      <td>0</td>\n",
       "      <td>0</td>\n",
       "      <td>0</td>\n",
       "      <td>0</td>\n",
       "      <td>0</td>\n",
       "      <td>0</td>\n",
       "      <td>0</td>\n",
       "      <td>0</td>\n",
       "    </tr>\n",
       "    <tr>\n",
       "      <th>2</th>\n",
       "      <td>66</td>\n",
       "      <td>0</td>\n",
       "      <td>0</td>\n",
       "      <td>0</td>\n",
       "      <td>0</td>\n",
       "      <td>0</td>\n",
       "      <td>0</td>\n",
       "      <td>0</td>\n",
       "      <td>0</td>\n",
       "      <td>0</td>\n",
       "      <td>...</td>\n",
       "      <td>0</td>\n",
       "      <td>0</td>\n",
       "      <td>0</td>\n",
       "      <td>0</td>\n",
       "      <td>0</td>\n",
       "      <td>0</td>\n",
       "      <td>0</td>\n",
       "      <td>0</td>\n",
       "      <td>0</td>\n",
       "      <td>0</td>\n",
       "    </tr>\n",
       "    <tr>\n",
       "      <th>3</th>\n",
       "      <td>66</td>\n",
       "      <td>0</td>\n",
       "      <td>0</td>\n",
       "      <td>0</td>\n",
       "      <td>0</td>\n",
       "      <td>0</td>\n",
       "      <td>0</td>\n",
       "      <td>0</td>\n",
       "      <td>0</td>\n",
       "      <td>0</td>\n",
       "      <td>...</td>\n",
       "      <td>0</td>\n",
       "      <td>0</td>\n",
       "      <td>0</td>\n",
       "      <td>0</td>\n",
       "      <td>0</td>\n",
       "      <td>0</td>\n",
       "      <td>0</td>\n",
       "      <td>0</td>\n",
       "      <td>0</td>\n",
       "      <td>0</td>\n",
       "    </tr>\n",
       "    <tr>\n",
       "      <th>4</th>\n",
       "      <td>66</td>\n",
       "      <td>0</td>\n",
       "      <td>0</td>\n",
       "      <td>0</td>\n",
       "      <td>0</td>\n",
       "      <td>0</td>\n",
       "      <td>0</td>\n",
       "      <td>0</td>\n",
       "      <td>0</td>\n",
       "      <td>0</td>\n",
       "      <td>...</td>\n",
       "      <td>0</td>\n",
       "      <td>0</td>\n",
       "      <td>0</td>\n",
       "      <td>0</td>\n",
       "      <td>0</td>\n",
       "      <td>0</td>\n",
       "      <td>0</td>\n",
       "      <td>0</td>\n",
       "      <td>0</td>\n",
       "      <td>0</td>\n",
       "    </tr>\n",
       "  </tbody>\n",
       "</table>\n",
       "<p>5 rows × 785 columns</p>\n",
       "</div>"
      ],
      "text/plain": [
       "   Label  Pixel1  Pixel2  Pixel3  Pixel4  Pixel5  Pixel6  Pixel7  Pixel8  \\\n",
       "0     66       0       0       0       0       0       0       0       0   \n",
       "1     66       0       0       0       0       0       0       0       0   \n",
       "2     66       0       0       0       0       0       0       0       0   \n",
       "3     66       0       0       0       0       0       0       0       0   \n",
       "4     66       0       0       0       0       0       0       0       0   \n",
       "\n",
       "   Pixel9  ...  Pixel775  Pixel776  Pixel777  Pixel778  Pixel779  Pixel780  \\\n",
       "0       0  ...         0         0         0         0         0         0   \n",
       "1       0  ...         0         0         0         0         0         0   \n",
       "2       0  ...         0         0         0         0         0         0   \n",
       "3       0  ...         0         0         0         0         0         0   \n",
       "4       0  ...         0         0         0         0         0         0   \n",
       "\n",
       "   Pixel781  Pixel782  Pixel783  Pixel784  \n",
       "0         0         0         0         0  \n",
       "1         0         0         0         0  \n",
       "2         0         0         0         0  \n",
       "3         0         0         0         0  \n",
       "4         0         0         0         0  \n",
       "\n",
       "[5 rows x 785 columns]"
      ]
     },
     "execution_count": 27,
     "metadata": {},
     "output_type": "execute_result"
    }
   ],
   "source": [
    "the_tr_df.head()"
   ]
  },
  {
   "cell_type": "code",
   "execution_count": 28,
   "metadata": {},
   "outputs": [],
   "source": [
    "X_the_tr_df = the_tr_df.copy()\n",
    "y_the_tr_df = X_the_tr_df.pop('Label')"
   ]
  },
  {
   "cell_type": "code",
   "execution_count": 29,
   "metadata": {},
   "outputs": [],
   "source": [
    "X_the_original = np.array(X_the_tr_df)\n",
    "y_the_original = np.array(y_the_tr_df)"
   ]
  },
  {
   "cell_type": "code",
   "execution_count": 30,
   "metadata": {},
   "outputs": [],
   "source": [
    "y_the_original = y_the_original[..., np.newaxis]"
   ]
  },
  {
   "cell_type": "markdown",
   "metadata": {},
   "source": [
    "Plotting some examples of T-H-E Dataset"
   ]
  },
  {
   "cell_type": "code",
   "execution_count": 31,
   "metadata": {},
   "outputs": [
    {
     "name": "stdout",
     "output_type": "stream",
     "text": [
      "(10000, 28, 28)\n",
      "Saving figure Augmented_THE_plot\n"
     ]
    },
    {
     "data": {
      "image/png": "[encoded data removed]",
      "text/plain": [
       "<Figure size 864x432 with 50 Axes>"
      ]
     },
     "metadata": {
      "needs_background": "light"
     },
     "output_type": "display_data"
    }
   ],
   "source": [
    "one_channel = X_the_original[:, :].reshape(-1, 28, 28)\n",
    "print(one_channel.shape)\n",
    "\n",
    "n_rows = 5\n",
    "n_cols = 10\n",
    "plt.figure(figsize=(n_cols * 1.2, n_rows * 1.2))\n",
    "for row in range(n_rows):\n",
    "    for col in range(n_cols):\n",
    "        index = n_cols * row + col\n",
    "        plt.subplot(n_rows, n_cols, index + 1)\n",
    "        plt.imshow(one_channel[index+70], cmap=\"gray\", interpolation=\"nearest\")\n",
    "        plt.axis('off')\n",
    "        plt.title(decodeLabel(int(y_the_original[index+70])), fontsize=12)\n",
    "plt.subplots_adjust(wspace=0.2, hspace=0.5)\n",
    "save_fig('Augmented_THE_plot', tight_layout=False)\n",
    "plt.show()"
   ]
  },
  {
   "cell_type": "code",
   "execution_count": 32,
   "metadata": {},
   "outputs": [],
   "source": [
    "# To get the original form of the data we must rotate the images 270' degrees anticlockwise along the last two axes and then flip them along axis 1 (horizontally)\n",
    "X_the_original = X_the_original.reshape(-1, 28, 28)\n",
    "X_the_original = np.rot90(X_the_original.reshape(-1, 28, 28), 3, (-2, -1))\n",
    "X_the_original = np.flip(X_the_original, 2)"
   ]
  },
  {
   "cell_type": "code",
   "execution_count": 33,
   "metadata": {},
   "outputs": [
    {
     "name": "stdout",
     "output_type": "stream",
     "text": [
      "(10000, 28, 28)\n"
     ]
    }
   ],
   "source": [
    "print(X_the_original.shape)"
   ]
  },
  {
   "cell_type": "code",
   "execution_count": 37,
   "metadata": {},
   "outputs": [
    {
     "name": "stdout",
     "output_type": "stream",
     "text": [
      "Saving figure Original_THE_plot\n"
     ]
    },
    {
     "data": {
      "image/png": "[encoded data removed]",
      "text/plain": [
       "<Figure size 864x864 with 100 Axes>"
      ]
     },
     "metadata": {
      "needs_background": "light"
     },
     "output_type": "display_data"
    }
   ],
   "source": [
    "n_rows = 10\n",
    "n_cols = 10\n",
    "plt.figure(figsize=(n_cols * 1.2, n_rows * 1.2))\n",
    "for row in range(n_rows):\n",
    "    for col in range(n_cols):\n",
    "        index = n_cols * row + col\n",
    "        plt.subplot(n_rows, n_cols, index + 1)\n",
    "        plt.imshow(X_the_original[index+400], cmap=\"gray\", interpolation=\"nearest\")\n",
    "        plt.axis('off')\n",
    "        plt.title(decodeLabel(int(y_the_original[index+400])), fontsize=12)\n",
    "plt.subplots_adjust(wspace=0.2, hspace=0.5)\n",
    "save_fig('Original_THE_plot', tight_layout=False)\n",
    "plt.show()"
   ]
  },
  {
   "cell_type": "code",
   "execution_count": 40,
   "metadata": {},
   "outputs": [
    {
     "name": "stdout",
     "output_type": "stream",
     "text": [
      "(10000, 28, 28)\n",
      "(10000, 1)\n"
     ]
    }
   ],
   "source": [
    "print(X_the_original.shape)\n",
    "print(y_the_original.shape)"
   ]
  },
  {
   "cell_type": "markdown",
   "metadata": {},
   "source": [
    "Saving the corrected THE Dataset as Images"
   ]
  },
  {
   "cell_type": "code",
   "execution_count": 83,
   "metadata": {},
   "outputs": [],
   "source": [
    "pathOfDataset = \"./Datasets/CorrectedTHE/\"\n",
    "for index in range(X_the_original.shape[0]):\n",
    "    #creating new directory with the name of the class in the folder of the corrected dataset\n",
    "    os.makedirs(os.path.join(pathOfDataset, str(y_the_original[index].item(0))), exist_ok=True)\n",
    "    pathOfClassFolder = os.path.join(pathOfDataset, str(y_the_original[index].item(0)))\n",
    "    # Saving the new version of the data\n",
    "    image = Image.fromarray((X_the_original[index] * 255).astype(np.uint8))\n",
    "    image.save((pathOfClassFolder+\"/\"+str(index)+\".png\"))"
   ]
  },
  {
   "cell_type": "code",
   "execution_count": 221,
   "metadata": {},
   "outputs": [],
   "source": [
    "np.save(\"./Datasets/X_the_original.npy\", X_the_original)\n",
    "np.save(\"./Datasets/y_the_original.npy\", y_the_original)"
   ]
  },
  {
   "cell_type": "markdown",
   "metadata": {},
   "source": [
    "### 1.5. Padded T-H-E"
   ]
  },
  {
   "cell_type": "markdown",
   "metadata": {},
   "source": [
    "##### 1.5.1. Loading and processing the dataset"
   ]
  },
  {
   "cell_type": "code",
   "execution_count": 38,
   "metadata": {},
   "outputs": [
    {
     "name": "stdout",
     "output_type": "stream",
     "text": [
      "Reading Data of Class Ğ\n",
      "Completed,  1000  Datapoints read!\n",
      "Completed,  1000  Labels read!\n",
      "==================================================\n",
      "Reading Data of Class İ\n",
      "Completed,  2000  Datapoints read!\n",
      "Completed,  2000  Labels read!\n",
      "==================================================\n",
      "Reading Data of Class Ö\n",
      "Completed,  3000  Datapoints read!\n",
      "Completed,  3000  Labels read!\n",
      "==================================================\n",
      "Reading Data of Class Ü\n",
      "Completed,  4000  Datapoints read!\n",
      "Completed,  4000  Labels read!\n",
      "==================================================\n",
      "Reading Data of Class ç\n",
      "Completed,  5000  Datapoints read!\n",
      "Completed,  5000  Labels read!\n",
      "==================================================\n",
      "Reading Data of Class ğ\n",
      "Completed,  6000  Datapoints read!\n",
      "Completed,  6000  Labels read!\n",
      "==================================================\n",
      "Reading Data of Class ı\n",
      "Completed,  7000  Datapoints read!\n",
      "Completed,  7000  Labels read!\n",
      "==================================================\n",
      "Reading Data of Class ö\n",
      "Completed,  8000  Datapoints read!\n",
      "Completed,  8000  Labels read!\n",
      "==================================================\n",
      "Reading Data of Class ş\n",
      "Completed,  9000  Datapoints read!\n",
      "Completed,  9000  Labels read!\n",
      "==================================================\n",
      "Reading Data of Class ü\n",
      "Completed,  10000  Datapoints read!\n",
      "Completed,  10000  Labels read!\n",
      "==================================================\n",
      "10000\n",
      "(10000, 784)\n",
      "(10000, 1)\n"
     ]
    }
   ],
   "source": [
    "from ImageProcessingMethods import addPadding\n",
    "import random\n",
    "\n",
    "IMG_DIMENSION = 28\n",
    "\n",
    "#appending the pics to the training data list\n",
    "training_data = []\n",
    "training_labels = []\n",
    "\n",
    "for index in range(62,72,1):\n",
    "    print(\"Reading Data of Class\", decodeLabel(index))\n",
    "\n",
    "    #setting the path to the directory containing the pics\n",
    "    path = f\"./Datasets/CorrectedTHE/{index}/\"\n",
    "\n",
    "    for img in os.listdir(path):\n",
    "        pic = cv2.imread(os.path.join(path,img))\n",
    "        height, width, _ = pic.shape\n",
    "        # Grayscaling\n",
    "        pic = cv2.cvtColor(pic,cv2.COLOR_BGR2GRAY)\n",
    "        # Scaling to smaller Dimensions (Here: to 24X24)\n",
    "        new_height = IMG_DIMENSION-4 # -4 as margin\n",
    "        aspect_ratio = height / width\n",
    "        new_width = int(new_height / aspect_ratio)\n",
    "        # # Widing Examples of Ş\n",
    "        # if index == 70:\n",
    "        #     widing_proba = random.random()\n",
    "        #     if widing_proba < 0.2:\n",
    "        #         new_width += 2\n",
    "        pic = cv2.resize(pic, (new_width, new_height), interpolation=cv2.INTER_AREA)\n",
    "        pic = addPadding(pic)\n",
    "        pic = cv2.threshold(pic, 80, 255, cv2.THRESH_BINARY)[1]\n",
    "        # Dilating Datapoints with randomness of 10% Probability\n",
    "        dilate_proba = random.random()\n",
    "        if dilate_proba < 0.1:\n",
    "            pic = cv2.dilate(pic, (3,3), iterations=1)\n",
    "        new_pic = np.asarray(pic)\n",
    "        new_pic = new_pic.reshape(-1)\n",
    "        training_data.append(new_pic)\n",
    "        training_labels.append([str(index)])\n",
    "\n",
    "    print(\"Completed, \", len(training_data), \" Datapoints read!\")\n",
    "    print(\"Completed, \", len(training_labels), \" Labels read!\")\n",
    "    print(\"==================================================\")\n",
    "\n",
    "\n",
    "print(len(training_data))\n",
    "training_data = np.asarray(training_data)\n",
    "print(training_data.shape)\n",
    "training_labels = np.asarray(training_labels)\n",
    "print(training_labels.shape)"
   ]
  },
  {
   "cell_type": "code",
   "execution_count": 39,
   "metadata": {},
   "outputs": [],
   "source": [
    "X_the_padded = training_data\n",
    "y_the_padded = training_labels"
   ]
  },
  {
   "cell_type": "markdown",
   "metadata": {},
   "source": [
    "Plotting some examples of Padded T-H-E Dataset"
   ]
  },
  {
   "cell_type": "code",
   "execution_count": 40,
   "metadata": {},
   "outputs": [
    {
     "name": "stdout",
     "output_type": "stream",
     "text": [
      "(10000, 28, 28)\n",
      "Saving figure Padded_THE_plot\n"
     ]
    },
    {
     "data": {
      "image/png": "[encoded data removed]",
      "text/plain": [
       "<Figure size 864x432 with 50 Axes>"
      ]
     },
     "metadata": {
      "needs_background": "light"
     },
     "output_type": "display_data"
    }
   ],
   "source": [
    "one_channel = X_the_padded[:, :].reshape(-1, 28, 28)\n",
    "print(one_channel.shape)\n",
    "\n",
    "n_rows = 5\n",
    "n_cols = 10\n",
    "plt.figure(figsize=(n_cols * 1.2, n_rows * 1.2))\n",
    "for row in range(n_rows):\n",
    "    for col in range(n_cols):\n",
    "        index = n_cols * row + col\n",
    "        plt.subplot(n_rows, n_cols, index + 1)\n",
    "        plt.imshow(one_channel[index+4970], cmap=\"gray\", interpolation=\"nearest\")\n",
    "        plt.axis('off')\n",
    "        plt.title(decodeLabel(int(y_the_padded[index+4970])), fontsize=12)\n",
    "plt.subplots_adjust(wspace=0.2, hspace=0.5)\n",
    "save_fig('Padded_THE_plot', tight_layout=False)\n",
    "plt.show()"
   ]
  },
  {
   "cell_type": "code",
   "execution_count": 41,
   "metadata": {},
   "outputs": [
    {
     "name": "stdout",
     "output_type": "stream",
     "text": [
      "(10000, 28, 28)\n",
      "(10000, 1)\n"
     ]
    }
   ],
   "source": [
    "X_the_padded = X_the_padded.reshape(-1, 28, 28)\n",
    "print(X_the_padded.shape)\n",
    "print(y_the_padded.shape)"
   ]
  },
  {
   "cell_type": "code",
   "execution_count": 42,
   "metadata": {},
   "outputs": [],
   "source": [
    "np.save(\"./Datasets/X_the_padded.npy\", X_the_padded)\n",
    "np.save(\"./Datasets/y_the_padded.npy\", y_the_padded)"
   ]
  },
  {
   "cell_type": "markdown",
   "metadata": {},
   "source": [
    "Saving the padded THE Dataset as Images"
   ]
  },
  {
   "cell_type": "code",
   "execution_count": 46,
   "metadata": {},
   "outputs": [],
   "source": [
    "pathOfDataset = \"./Datasets/PaddedTHE/\"\n",
    "for index in range(X_the_padded.shape[0]):\n",
    "    #creating new directory with the name of the class in the folder of the padded dataset\n",
    "    os.makedirs(os.path.join(pathOfDataset, str(y_the_padded[index].item(0))), exist_ok=True)\n",
    "    pathOfClassFolder = os.path.join(pathOfDataset, str(y_the_padded[index].item(0)))\n",
    "    # Saving the new version of the data\n",
    "    image = Image.fromarray((X_the_padded[index]).astype(np.uint8))\n",
    "    image.save((pathOfClassFolder+\"/\"+str(index)+\".png\"))"
   ]
  },
  {
   "cell_type": "markdown",
   "metadata": {},
   "source": [
    "## 2. Combining the datasets"
   ]
  },
  {
   "cell_type": "markdown",
   "metadata": {},
   "source": [
    "### 2.1. Reshaping"
   ]
  },
  {
   "cell_type": "code",
   "execution_count": 218,
   "metadata": {},
   "outputs": [
    {
     "name": "stdout",
     "output_type": "stream",
     "text": [
      "Shape of X_nist_original (731656, 784)\n",
      "Shape of y_nist_original (731656, 1)\n",
      "Shape of X_nist_opencv_cropped (731650, 784)\n",
      "Shape of y_nist_opencv_cropped (731650, 1)\n",
      "Shape of X_nist_random_zoomed (731656, 784)\n",
      "Shape of y_nist_random_zoomed (731656, 1)\n",
      "Shape of X_the_original (10000, 28, 28)\n",
      "Shape of y_the_original (10000, 1)\n",
      "Shape of X_the_padded (10000, 28, 28)\n",
      "Shape of y_the_padded (10000, 1)\n"
     ]
    }
   ],
   "source": [
    "print(\"Shape of X_nist_original\", X_nist_original.shape)\n",
    "print(\"Shape of y_nist_original\", y_nist_original.shape)\n",
    "print(\"Shape of X_nist_opencv_cropped\", X_nist_opencv_cropped.shape)\n",
    "print(\"Shape of y_nist_opencv_cropped\", y_nist_opencv_cropped.shape)\n",
    "print(\"Shape of X_nist_random_zoomed\", X_nist_random_zoomed.shape)\n",
    "print(\"Shape of y_nist_random_zoomed\", y_nist_random_zoomed.shape)\n",
    "print(\"Shape of X_the_original\", X_the_original.shape)\n",
    "print(\"Shape of y_the_original\", y_the_original.shape)\n",
    "print(\"Shape of X_the_padded\", X_the_padded.shape)\n",
    "print(\"Shape of y_the_padded\", y_the_padded.shape)"
   ]
  },
  {
   "cell_type": "code",
   "execution_count": 228,
   "metadata": {},
   "outputs": [],
   "source": [
    "X_nist_original = X_nist_original[:, :].reshape(-1, 28, 28)\n",
    "X_nist_original = X_nist_original[..., np.newaxis]\n",
    "X_nist_opencv_cropped = X_nist_opencv_cropped[:, :].reshape(-1, 28, 28)\n",
    "X_nist_opencv_cropped = X_nist_opencv_cropped[..., np.newaxis]\n",
    "X_nist_random_zoomed = X_nist_random_zoomed[:, :].reshape(-1, 28, 28)\n",
    "X_nist_random_zoomed = X_nist_random_zoomed[..., np.newaxis]\n",
    "X_the_original = X_the_original[..., np.newaxis]\n",
    "X_the_padded = X_the_padded[..., np.newaxis]"
   ]
  },
  {
   "cell_type": "code",
   "execution_count": 231,
   "metadata": {},
   "outputs": [
    {
     "name": "stdout",
     "output_type": "stream",
     "text": [
      "Shape of X_nist_original (731656, 28, 28, 1)\n",
      "Shape of y_nist_original (731656, 1)\n",
      "Shape of X_nist_opencv_cropped (731650, 28, 28, 1)\n",
      "Shape of y_nist_opencv_cropped (731650, 1)\n",
      "Shape of X_nist_random_zoomed (731656, 28, 28, 1)\n",
      "Shape of y_nist_random_zoomed (731656, 1)\n",
      "Shape of X_the_original (10000, 28, 28, 1)\n",
      "Shape of y_the_original (10000, 1)\n",
      "Shape of X_the_padded (10000, 28, 28, 1)\n",
      "Shape of y_the_padded (10000, 1)\n"
     ]
    }
   ],
   "source": [
    "print(\"Shape of X_nist_original\", X_nist_original.shape)\n",
    "print(\"Shape of y_nist_original\", y_nist_original.shape)\n",
    "print(\"Shape of X_nist_opencv_cropped\", X_nist_opencv_cropped.shape)\n",
    "print(\"Shape of y_nist_opencv_cropped\", y_nist_opencv_cropped.shape)\n",
    "print(\"Shape of X_nist_random_zoomed\", X_nist_random_zoomed.shape)\n",
    "print(\"Shape of y_nist_random_zoomed\", y_nist_random_zoomed.shape)\n",
    "print(\"Shape of X_the_original\", X_the_original.shape)\n",
    "print(\"Shape of y_the_original\", y_the_original.shape)\n",
    "print(\"Shape of X_the_padded\", X_the_padded.shape)\n",
    "print(\"Shape of y_the_padded\", y_the_padded.shape)"
   ]
  },
  {
   "cell_type": "markdown",
   "metadata": {},
   "source": [
    "### 2.2. Splitting to Training/Test Sets"
   ]
  },
  {
   "cell_type": "code",
   "execution_count": null,
   "metadata": {},
   "outputs": [],
   "source": [
    "print(\"Shape of X_nist_original\", X_nist_original.shape)\n",
    "print(\"Shape of y_nist_original\", y_nist_original.shape)\n",
    "print(\"Shape of X_nist_opencv_cropped\", X_nist_opencv_cropped.shape)\n",
    "print(\"Shape of y_nist_opencv_cropped\", y_nist_opencv_cropped.shape)\n",
    "print(\"Shape of X_nist_random_zoomed\", X_nist_random_zoomed.shape)\n",
    "print(\"Shape of y_nist_random_zoomed\", y_nist_random_zoomed.shape)\n",
    "print(\"Shape of X_the_original\", X_the_original.shape)\n",
    "print(\"Shape of y_the_original\", y_the_original.shape)\n",
    "print(\"Shape of X_the_padded\", X_the_padded.shape)\n",
    "print(\"Shape of y_the_padded\", y_the_padded.shape)"
   ]
  },
  {
   "cell_type": "code",
   "execution_count": 233,
   "metadata": {},
   "outputs": [],
   "source": [
    "splitter = StratifiedShuffleSplit(train_size=0.9, test_size=0.1, random_state=42)\n",
    "for train_index, test_index in splitter.split(X_nist_original, y_nist_original): # 658490 training Instances & 73166 Test Instances = 731656 Total Instances\n",
    "    X_nist_original_train, X_nist_original_test = X_nist_original[train_index], X_nist_original[test_index]\n",
    "    y_nist_original_train, y_nist_original_test = y_nist_original[train_index], y_nist_original[test_index]"
   ]
  },
  {
   "cell_type": "code",
   "execution_count": 234,
   "metadata": {},
   "outputs": [
    {
     "name": "stdout",
     "output_type": "stream",
     "text": [
      "(658490, 28, 28, 1)\n",
      "(658490, 1)\n",
      "(73166, 28, 28, 1)\n",
      "(73166, 1)\n"
     ]
    }
   ],
   "source": [
    "print(X_nist_original_train.shape)\n",
    "print(y_nist_original_train.shape)\n",
    "print(X_nist_original_test.shape)\n",
    "print(y_nist_original_test.shape)"
   ]
  },
  {
   "cell_type": "code",
   "execution_count": 235,
   "metadata": {},
   "outputs": [],
   "source": [
    "splitter = StratifiedShuffleSplit(train_size=0.9, test_size=0.1, random_state=42)\n",
    "for train_index, test_index in splitter.split(X_nist_opencv_cropped, y_nist_opencv_cropped): # 658490 training Instances & 73166 Test Instances = 731656 Total Instances\n",
    "    X_nist_opencv_cropped_train, X_nist_opencv_cropped_test = X_nist_opencv_cropped[train_index], X_nist_opencv_cropped[test_index]\n",
    "    y_nist_opencv_cropped_train, y_nist_opencv_cropped_test = y_nist_opencv_cropped[train_index], y_nist_opencv_cropped[test_index]"
   ]
  },
  {
   "cell_type": "code",
   "execution_count": 236,
   "metadata": {},
   "outputs": [],
   "source": [
    "splitter = StratifiedShuffleSplit(train_size=0.9, test_size=0.1, random_state=42)\n",
    "for train_index, test_index in splitter.split(X_nist_random_zoomed, y_nist_random_zoomed): # 658490 training Instances & 73166 Test Instances = 731656 Total Instances\n",
    "    X_nist_random_zoomed_train, X_nist_random_zoomed_test = X_nist_random_zoomed[train_index], X_nist_random_zoomed[test_index]\n",
    "    y_nist_random_zoomed_train, y_nist_random_zoomed_test = y_nist_random_zoomed[train_index], y_nist_random_zoomed[test_index]"
   ]
  },
  {
   "cell_type": "code",
   "execution_count": 237,
   "metadata": {},
   "outputs": [],
   "source": [
    "splitter = StratifiedShuffleSplit(train_size=0.9, test_size=0.1, random_state=42) # 9000 training Instances & 1000 Test Instances\n",
    "for train_index, test_index in splitter.split(X_the_original, y_the_original):\n",
    "    X_the_original_train, X_the_original_test = X_the_original[train_index], X_the_original[test_index]\n",
    "    y_the_original_train, y_the_original_test = y_the_original[train_index], y_the_original[test_index]"
   ]
  },
  {
   "cell_type": "code",
   "execution_count": 238,
   "metadata": {},
   "outputs": [],
   "source": [
    "splitter = StratifiedShuffleSplit(train_size=0.9, test_size=0.1, random_state=42) # 9000 training Instances & 1000 Test Instances\n",
    "for train_index, test_index in splitter.split(X_the_padded, y_the_padded):\n",
    "    X_the_padded_train, X_the_padded_test = X_the_padded[train_index], X_the_padded[test_index]\n",
    "    y_the_padded_train, y_the_padded_test = y_the_padded[train_index], y_the_padded[test_index]"
   ]
  },
  {
   "cell_type": "code",
   "execution_count": 283,
   "metadata": {},
   "outputs": [],
   "source": [
    "np.save(\"X_the_padded_train.npy\", X_the_padded_train)\n",
    "np.save(\"X_the_padded_test.npy\", X_the_padded_test)\n",
    "np.save(\"y_the_padded_train.npy\", y_the_padded_train)\n",
    "np.save(\"y_the_padded_test.npy\", y_the_padded_test)\n",
    "np.save(\"X_the_original_train.npy\", X_the_original_train)\n",
    "np.save(\"X_the_original_test.npy\", X_the_original_test)\n",
    "np.save(\"y_the_original_train.npy\", y_the_original_train)\n",
    "np.save(\"y_the_original_test.npy\", y_the_original_test)\n",
    "np.save(\"X_nist_random_zoomed_train.npy\", X_nist_random_zoomed_train)\n",
    "np.save(\"y_nist_random_zoomed_train.npy\", y_nist_random_zoomed_train)\n",
    "np.save(\"X_nist_random_zoomed_test.npy\", X_nist_random_zoomed_test)\n",
    "np.save(\"y_nist_random_zoomed_test.npy\", y_nist_random_zoomed_test)\n",
    "np.save(\"X_nist_opencv_cropped_train.npy\", X_nist_opencv_cropped_train)\n",
    "np.save(\"y_nist_opencv_cropped_train.npy\", y_nist_opencv_cropped_train)\n",
    "np.save(\"X_nist_opencv_cropped_test.npy\", X_nist_opencv_cropped_test)\n",
    "np.save(\"y_nist_opencv_cropped_test.npy\", y_nist_opencv_cropped_test)"
   ]
  },
  {
   "cell_type": "markdown",
   "metadata": {},
   "source": [
    "### 2.3. Creating Combinations"
   ]
  },
  {
   "cell_type": "code",
   "execution_count": 5,
   "metadata": {},
   "outputs": [],
   "source": [
    "def combineTwoDatasets(\n",
    "    X_dataset1_Train,\n",
    "    y_dataset1_Train,\n",
    "    X_dataset2_Train,\n",
    "    y_dataset2_Train,\n",
    "    X_dataset1_Test,\n",
    "    y_dataset1_Test,\n",
    "    X_dataset2_Test,\n",
    "    y_dataset2_Test ):\n",
    "    X_train = np.concatenate((X_dataset1_Train, X_dataset2_Train), axis=0)\n",
    "    y_train = np.concatenate((y_dataset1_Train, y_dataset2_Train), axis=0)\n",
    "    X_test = np.concatenate((X_dataset1_Test, X_dataset2_Test), axis=0)\n",
    "    y_test = np.concatenate((y_dataset1_Test, y_dataset2_Test), axis=0)\n",
    "    X_train, y_train = shuffle(X_train, y_train, random_state=42)\n",
    "    X_test, y_test = shuffle(X_test, y_test, random_state=42)\n",
    "    y_train = y_train.astype(np.int64)\n",
    "    y_test = y_test.astype(np.int64)\n",
    "    return X_train, y_train, X_test, y_test"
   ]
  },
  {
   "cell_type": "markdown",
   "metadata": {},
   "source": [
    "##### 2.3.1. Original NIST19 + Original T-H-E"
   ]
  },
  {
   "cell_type": "code",
   "execution_count": 265,
   "metadata": {},
   "outputs": [],
   "source": [
    "X_train_1, y_train_1, X_test_1, y_test_1 = combineTwoDatasets(X_nist_original_train, y_nist_original_train, X_the_original_train, y_the_original_train, X_nist_original_test, y_nist_original_test, X_the_original_test, y_the_original_test)"
   ]
  },
  {
   "cell_type": "code",
   "execution_count": 266,
   "metadata": {},
   "outputs": [
    {
     "name": "stdout",
     "output_type": "stream",
     "text": [
      "(667490, 28, 28, 1)\n",
      "(667490, 1)\n",
      "(74166, 28, 28, 1)\n",
      "(74166, 1)\n"
     ]
    }
   ],
   "source": [
    "print(X_train_1.shape) # NIST 658490 + T-H-E 9000\n",
    "print(y_train_1.shape) # NIST 658490 + T-H-E 9000\n",
    "print(X_test_1.shape) # NIST 73166 + T-H-E 1000\n",
    "print(y_test_1.shape) # NIST 73166 + T-H-E 1000"
   ]
  },
  {
   "cell_type": "code",
   "execution_count": 268,
   "metadata": {},
   "outputs": [],
   "source": [
    "np.save(\"./SplittedDatasets/1/X_train_1.npy\", X_train_1)\n",
    "np.save(\"./SplittedDatasets/1/y_train_1.npy\", y_train_1)\n",
    "np.save(\"./SplittedDatasets/1/X_test_1.npy\", X_test_1)\n",
    "np.save(\"./SplittedDatasets/1/y_test_1.npy\", y_test_1)"
   ]
  },
  {
   "cell_type": "markdown",
   "metadata": {},
   "source": [
    "##### 2.3.2. Cropped And Resized NIST19 (OpenCV) + Original T-H-E"
   ]
  },
  {
   "cell_type": "code",
   "execution_count": 267,
   "metadata": {},
   "outputs": [],
   "source": [
    "X_train_2, y_train_2, X_test_2, y_test_2 = combineTwoDatasets(X_nist_opencv_cropped_train, y_nist_opencv_cropped_train, X_the_original_train, y_the_original_train, X_nist_opencv_cropped_test, y_nist_opencv_cropped_test, X_the_original_test, y_the_original_test)"
   ]
  },
  {
   "cell_type": "code",
   "execution_count": 269,
   "metadata": {},
   "outputs": [],
   "source": [
    "np.save(\"./SplittedDatasets/2/X_train_2.npy\", X_train_2)\n",
    "np.save(\"./SplittedDatasets/2/y_train_2.npy\", y_train_2)\n",
    "np.save(\"./SplittedDatasets/2/X_test_2.npy\", X_test_2)\n",
    "np.save(\"./SplittedDatasets/2/y_test_2.npy\", y_test_2)"
   ]
  },
  {
   "cell_type": "markdown",
   "metadata": {},
   "source": [
    "##### 2.3.3. Zoomed NIST19 (Keras) + Original T-H-E"
   ]
  },
  {
   "cell_type": "code",
   "execution_count": 270,
   "metadata": {},
   "outputs": [],
   "source": [
    "X_train_3, y_train_3, X_test_3, y_test_3 = combineTwoDatasets(X_nist_random_zoomed_train, y_nist_random_zoomed_train, X_the_original_train, y_the_original_train, X_nist_random_zoomed_test, y_nist_random_zoomed_test, X_the_original_test, y_the_original_test)"
   ]
  },
  {
   "cell_type": "code",
   "execution_count": 271,
   "metadata": {},
   "outputs": [],
   "source": [
    "np.save(\"./SplittedDatasets/3/X_train_3.npy\", X_train_3)\n",
    "np.save(\"./SplittedDatasets/3/y_train_3.npy\", y_train_3)\n",
    "np.save(\"./SplittedDatasets/3/X_test_3.npy\", X_test_3)\n",
    "np.save(\"./SplittedDatasets/3/y_test_3.npy\", y_test_3)"
   ]
  },
  {
   "cell_type": "markdown",
   "metadata": {},
   "source": [
    "##### 2.3.4. Original NIST19 + Padded T-H-E"
   ]
  },
  {
   "cell_type": "code",
   "execution_count": 272,
   "metadata": {},
   "outputs": [],
   "source": [
    "X_train_4, y_train_4, X_test_4, y_test_4 = combineTwoDatasets(X_nist_original_train, y_nist_original_train, X_the_padded_train, y_the_padded_train, X_nist_original_test, y_nist_original_test, X_the_padded_test, y_the_padded_test)"
   ]
  },
  {
   "cell_type": "code",
   "execution_count": 273,
   "metadata": {},
   "outputs": [],
   "source": [
    "np.save(\"./SplittedDatasets/4/X_train_4.npy\", X_train_4)\n",
    "np.save(\"./SplittedDatasets/4/y_train_4.npy\", y_train_4)\n",
    "np.save(\"./SplittedDatasets/4/X_test_4.npy\", X_test_4)\n",
    "np.save(\"./SplittedDatasets/4/y_test_4.npy\", y_test_4)"
   ]
  },
  {
   "cell_type": "markdown",
   "metadata": {},
   "source": [
    "##### 2.3.5. Cropped And Resized NIST19 (OpenCV) + Padded T-H-E"
   ]
  },
  {
   "cell_type": "code",
   "execution_count": 274,
   "metadata": {},
   "outputs": [],
   "source": [
    "X_train_5, y_train_5, X_test_5, y_test_5 = combineTwoDatasets(X_nist_opencv_cropped_train, y_nist_opencv_cropped_train, X_the_padded_train, y_the_padded_train, X_nist_opencv_cropped_test, y_nist_opencv_cropped_test, X_the_padded_test, y_the_padded_test)"
   ]
  },
  {
   "cell_type": "code",
   "execution_count": 275,
   "metadata": {},
   "outputs": [],
   "source": [
    "np.save(\"./SplittedDatasets/5/X_train_5.npy\", X_train_5)\n",
    "np.save(\"./SplittedDatasets/5/y_train_5.npy\", y_train_5)\n",
    "np.save(\"./SplittedDatasets/5/X_test_5.npy\", X_test_5)\n",
    "np.save(\"./SplittedDatasets/5/y_test_5.npy\", y_test_5)"
   ]
  },
  {
   "cell_type": "markdown",
   "metadata": {},
   "source": [
    "##### 2.3.6. Zoomed NIST19 (Keras) + Padded T-H-E"
   ]
  },
  {
   "cell_type": "code",
   "execution_count": 276,
   "metadata": {},
   "outputs": [],
   "source": [
    "X_train_6, y_train_6, X_test_6, y_test_6 = combineTwoDatasets(X_nist_random_zoomed_train, y_nist_random_zoomed_train, X_the_padded_train, y_the_padded_train, X_nist_random_zoomed_test, y_nist_random_zoomed_test, X_the_padded_test, y_the_padded_test)"
   ]
  },
  {
   "cell_type": "code",
   "execution_count": 277,
   "metadata": {},
   "outputs": [],
   "source": [
    "np.save(\"./SplittedDatasets/6/X_train_6.npy\", X_train_6)\n",
    "np.save(\"./SplittedDatasets/6/y_train_6.npy\", y_train_6)\n",
    "np.save(\"./SplittedDatasets/6/X_test_6.npy\", X_test_6)\n",
    "np.save(\"./SplittedDatasets/6/y_test_6.npy\", y_test_6)"
   ]
  },
  {
   "cell_type": "markdown",
   "metadata": {},
   "source": [
    "##### 2.3.7. Original NIST19 + Original T-H-E + Padded T-H-E"
   ]
  },
  {
   "cell_type": "code",
   "execution_count": 278,
   "metadata": {},
   "outputs": [],
   "source": [
    "X_train_7_temp, y_train_7_temp, X_test_7_temp, y_test_7_temp = combineTwoDatasets(X_nist_original_train, y_nist_original_train, X_the_original_train, y_the_original_train, X_nist_original_test, y_nist_original_test, X_the_original_test, y_the_original_test)"
   ]
  },
  {
   "cell_type": "code",
   "execution_count": 279,
   "metadata": {},
   "outputs": [],
   "source": [
    "X_train_7, y_train_7, X_test_7, y_test_7 = combineTwoDatasets(X_train_7_temp, y_train_7_temp, X_the_padded_train, y_the_padded_train, X_test_7_temp, y_test_7_temp, X_the_padded_test, y_the_padded_test)"
   ]
  },
  {
   "cell_type": "code",
   "execution_count": 280,
   "metadata": {},
   "outputs": [],
   "source": [
    "np.save(\"./SplittedDatasets/7/X_train_7.npy\", X_train_7)\n",
    "np.save(\"./SplittedDatasets/7/y_train_7.npy\", y_train_7)\n",
    "np.save(\"./SplittedDatasets/7/X_test_7.npy\", X_test_7)\n",
    "np.save(\"./SplittedDatasets/7/y_test_7.npy\", y_test_7)"
   ]
  },
  {
   "cell_type": "markdown",
   "metadata": {},
   "source": [
    "##### 2.3.8. Cropped And Resized NIST19 (OpenCV) + Original T-H-E + Padded T-H-E"
   ]
  },
  {
   "cell_type": "code",
   "execution_count": 6,
   "metadata": {},
   "outputs": [],
   "source": [
    "X_train_8_temp, y_train_8_temp, X_test_8_temp, y_test_8_temp = combineTwoDatasets(X_nist_opencv_cropped_train, y_nist_opencv_cropped_train, X_the_original_train, y_the_original_train, X_nist_opencv_cropped_test, y_nist_opencv_cropped_test, X_the_original_test, y_the_original_test)"
   ]
  },
  {
   "cell_type": "code",
   "execution_count": 7,
   "metadata": {},
   "outputs": [],
   "source": [
    "X_train_8, y_train_8, X_test_8, y_test_8 = combineTwoDatasets(X_train_8_temp, y_train_8_temp, X_the_padded_train, y_the_padded_train, X_test_8_temp, y_test_8_temp, X_the_padded_test, y_the_padded_test)"
   ]
  },
  {
   "cell_type": "code",
   "execution_count": 8,
   "metadata": {},
   "outputs": [],
   "source": [
    "np.save(\"./SplittedDatasets/8/X_train_8.npy\", X_train_8)\n",
    "np.save(\"./SplittedDatasets/8/y_train_8.npy\", y_train_8)\n",
    "np.save(\"./SplittedDatasets/8/X_test_8.npy\", X_test_8)\n",
    "np.save(\"./SplittedDatasets/8/y_test_8.npy\", y_test_8)"
   ]
  },
  {
   "cell_type": "markdown",
   "metadata": {},
   "source": [
    "##### 2.3.9. Zoomed NIST19 (Keras) + Original T-H-E + Padded T-H-E"
   ]
  },
  {
   "cell_type": "code",
   "execution_count": 9,
   "metadata": {},
   "outputs": [],
   "source": [
    "X_train_9_temp, y_train_9_temp, X_test_9_temp, y_test_9_temp = combineTwoDatasets(X_nist_random_zoomed_train, y_nist_random_zoomed_train, X_the_original_train, y_the_original_train, X_nist_random_zoomed_test, y_nist_random_zoomed_test, X_the_original_test, y_the_original_test)"
   ]
  },
  {
   "cell_type": "code",
   "execution_count": 10,
   "metadata": {},
   "outputs": [],
   "source": [
    "X_train_9, y_train_9, X_test_9, y_test_9 = combineTwoDatasets(X_train_9_temp, y_train_9_temp, X_the_padded_train, y_the_padded_train, X_test_9_temp, y_test_9_temp, X_the_padded_test, y_the_padded_test)"
   ]
  },
  {
   "cell_type": "code",
   "execution_count": 11,
   "metadata": {},
   "outputs": [],
   "source": [
    "np.save(\"./SplittedDatasets/9/X_train_9.npy\", X_train_9)\n",
    "np.save(\"./SplittedDatasets/9/y_train_9.npy\", y_train_9)\n",
    "np.save(\"./SplittedDatasets/9/X_test_9.npy\", X_test_9)\n",
    "np.save(\"./SplittedDatasets/9/y_test_9.npy\", y_test_9)"
   ]
  }
 ],
 "metadata": {
  "interpreter": {
   "hash": "25bbadcf8d4e2dbeb4c1e036bfb02ed960527d2f42316fb6b1dd3a2d013d4f0d"
  },
  "kernelspec": {
   "display_name": "Python 3.8.3 ('base')",
   "language": "python",
   "name": "python3"
  },
  "language_info": {
   "codemirror_mode": {
    "name": "ipython",
    "version": 3
   },
   "file_extension": ".py",
   "mimetype": "text/x-python",
   "name": "python",
   "nbconvert_exporter": "python",
   "pygments_lexer": "ipython3",
   "version": "3.8.3"
  },
  "orig_nbformat": 4
 },
 "nbformat": 4,
 "nbformat_minor": 2
}
