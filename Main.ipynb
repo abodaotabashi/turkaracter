{
 "cells": [
  {
   "cell_type": "markdown",
   "metadata": {},
   "source": [
    "<div align=\"center\">\n",
    "\n",
    "<p align=\"center\">\n",
    "    <img\n",
    "        src=\"./Assets/Turkaracter Logo.png\"\n",
    "        raw=true\n",
    "        alt=\"turkaracter_Logo\"\n",
    "        style=\"width: 128px; height: 128px\" />\n",
    "</p>\n",
    "\n",
    "<h1 align=\"center\">\n",
    "    TurKaracter: Entwicklung eines Erkennungssystems von türkischen Handschriften unter Verwendung von künstlichen neuronalen Netzwerken\n",
    "</h1>\n",
    "<h3 align=\"center\">\n",
    "    Bachelor Abschlussarbeit von Abdurrahman ODABAŞI\n",
    "</h3>\n",
    "<h3 align=\"center\">\n",
    "    Betreuer: Dr. Ahmet YILDIZ (Türkisch-Deutsche Universität)\n",
    "</h3>\n",
    "<h3 align=\"center\">\n",
    "    Industriepartner: BIS Çözüm Bilgisayar ve Entegrasyon Hiz. ve Tic. A.Ş.\n",
    "</h3>\n",
    "<h3 align=\"center\">\n",
    "    Bearbeitungszeitraum 04.11.2021 - 01.07.2022\n",
    "</h3>\n",
    "</div>"
   ]
  },
  {
   "cell_type": "markdown",
   "metadata": {},
   "source": [
    "## 0. Imports & Setup"
   ]
  },
  {
   "cell_type": "code",
   "execution_count": 1,
   "metadata": {},
   "outputs": [],
   "source": [
    "import numpy as np\n",
    "import os\n",
    "import cv2\n",
    "from keras.models import load_model\n",
    "from statistics import mean\n",
    "\n",
    "from InferenceMethods import segmentTextToChars, predictText, autoCorrectText"
   ]
  },
  {
   "cell_type": "code",
   "execution_count": 2,
   "metadata": {},
   "outputs": [],
   "source": [
    "model_1_5 = load_model(\"Models/baseline_model_1_5.h5\")\n",
    "model_2_0_3 = load_model(\"Models/baseline_model_2_0_3.h5\")\n",
    "model_2_1_3 = load_model(\"Models/baseline_model_2_1_3.h5\")"
   ]
  },
  {
   "cell_type": "code",
   "execution_count": 3,
   "metadata": {},
   "outputs": [
    {
     "name": "stdout",
     "output_type": "stream",
     "text": [
      "Recognized Text:  merh0ba turkacaceev basarl1ac di̇1eri̇m\n",
      "Auto corrected Text:  merh0ba turkacaceev basari1ac di̇1eri̇m\n"
     ]
    }
   ],
   "source": [
    "img = cv2.imread(\"./Example.jpg\")\n",
    "allChars = segmentTextToChars(img, verbose=0)\n",
    "\n",
    "recognized_text, confidence = predictText(allChars, model_2_1_3, show_top_k=False, k=2)\n",
    "recognized_text = recognized_text.strip()\n",
    "recognized_text = recognized_text.lower()\n",
    "print(\"Recognized Text: \", recognized_text)\n",
    "\n",
    "corrected_text = autoCorrectText(recognized_text)\n",
    "print(\"Auto corrected Text: \", corrected_text)"
   ]
  }
 ],
 "metadata": {
  "interpreter": {
   "hash": "25bbadcf8d4e2dbeb4c1e036bfb02ed960527d2f42316fb6b1dd3a2d013d4f0d"
  },
  "kernelspec": {
   "display_name": "Python 3.8.3 ('base')",
   "language": "python",
   "name": "python3"
  },
  "language_info": {
   "codemirror_mode": {
    "name": "ipython",
    "version": 3
   },
   "file_extension": ".py",
   "mimetype": "text/x-python",
   "name": "python",
   "nbconvert_exporter": "python",
   "pygments_lexer": "ipython3",
   "version": "3.8.3"
  },
  "orig_nbformat": 4
 },
 "nbformat": 4,
 "nbformat_minor": 2
}
