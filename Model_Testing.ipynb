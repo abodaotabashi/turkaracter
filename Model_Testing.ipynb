{
 "cells": [
  {
   "cell_type": "markdown",
   "metadata": {},
   "source": [
    "<div align=\"center\">\n",
    "\n",
    "<p align=\"center\">\n",
    "    <img\n",
    "        src=\"./Assets/Turkaracter Logo.png\"\n",
    "        raw=true\n",
    "        alt=\"turkaracter_Logo\"\n",
    "        style=\"width: 128px; height: 128px\" />\n",
    "</p>\n",
    "\n",
    "<h1 align=\"center\">\n",
    "    TurKaracter: Entwicklung eines Erkennungssystems von türkischen Handschriften unter Verwendung von künstlichen neuronalen Netzwerken\n",
    "</h1>\n",
    "<h3 align=\"center\">\n",
    "    Bachelor Abschlussarbeit von Abdurrahman ODABAŞI\n",
    "</h3>\n",
    "<h3 align=\"center\">\n",
    "    Betreuer: Dr. Ahmet YILDIZ (Türkisch-Deutsche Universität)\n",
    "</h3>\n",
    "<h3 align=\"center\">\n",
    "    Industriepartner: BIS Çözüm Bilgisayar ve Entegrasyon Hiz. ve Tic. A.Ş.\n",
    "</h3>\n",
    "<h3 align=\"center\">\n",
    "    Bearbeitungszeitraum 04.11.2021 - 01.07.2022\n",
    "</h3>\n",
    "</div>"
   ]
  },
  {
   "cell_type": "markdown",
   "metadata": {},
   "source": [
    "## 0. Imports & Setup"
   ]
  },
  {
   "cell_type": "code",
   "execution_count": 1,
   "metadata": {},
   "outputs": [],
   "source": [
    "import numpy as np\n",
    "import os\n",
    "import cv2\n",
    "from keras.models import load_model\n",
    "from statistics import mean"
   ]
  },
  {
   "cell_type": "code",
   "execution_count": 2,
   "metadata": {},
   "outputs": [],
   "source": [
    "from ImageProcessingMethods import grayscale, invert, binarize, segment_to_lines, segment_to_words, segment_to_chars, repairShapeOfCharacter, add_borders\n",
    "\n",
    "from InferenceMethods import segmentTextToChars, predictText, decodeLabel, autoCorrectText"
   ]
  },
  {
   "cell_type": "markdown",
   "metadata": {},
   "source": [
    "## 1. Similarity Metrics"
   ]
  },
  {
   "cell_type": "code",
   "execution_count": 3,
   "metadata": {},
   "outputs": [],
   "source": [
    "from textdistance import hamming, levenshtein, jaro_winkler, ratcliff_obershelp\n",
    "\n",
    "def hamming_similarity(a, b):\n",
    "    return hamming.normalized_similarity(a, b)\n",
    "\n",
    "def levenshtein_similarity(a, b):\n",
    "    return levenshtein.normalized_similarity(a, b)\n",
    "\n",
    "def jaro_winkler_similarity(a, b):\n",
    "    return jaro_winkler(a, b)\n",
    "\n",
    "def ratcliff_obershelp_similarity(a, b):\n",
    "    return ratcliff_obershelp(a, b)"
   ]
  },
  {
   "cell_type": "markdown",
   "metadata": {},
   "source": [
    "## 2. Testing the models with realistic Test Set"
   ]
  },
  {
   "cell_type": "markdown",
   "metadata": {},
   "source": [
    "### 2.0. Implementing Testing Method"
   ]
  },
  {
   "cell_type": "code",
   "execution_count": 4,
   "metadata": {},
   "outputs": [],
   "source": [
    "def test_model(model, verbose=0, show_corrections=False):\n",
    "    ro_similarity_ex1 = []\n",
    "    corrected_ro_similarity_ex1 = []\n",
    "    confidence_ex1 = []\n",
    "    ro_similarity_ex2 = []\n",
    "    corrected_ro_similarity_ex2 = []\n",
    "    confidence_ex2 = []\n",
    "    predicted_strings = []\n",
    "    for index in range(1,3,1):\n",
    "    #setting the path to the directory containing the pics\n",
    "        path = f\"./Actual Testset/{index}/\"\n",
    "\n",
    "        for img in os.listdir(path):\n",
    "            pic = cv2.imread(os.path.join(path,img))\n",
    "            allChars = segmentTextToChars(pic, verbose=verbose)\n",
    "            recognized_text, confidence = predictText(allChars, model, show_top_k=False, k=2)\n",
    "            recognized_text = recognized_text.strip()\n",
    "            corrected_text = autoCorrectText(recognized_text.lower())\n",
    "            if index == 1:\n",
    "                confidence_ex1.append(confidence)\n",
    "                ro_similarity = ratcliff_obershelp_similarity(\"gönlüm vazo diyorsun jilet fıstıkçı şehap bahane ciğer twix\", recognized_text.lower())\n",
    "                ro_similarity_corrected = ratcliff_obershelp_similarity(\"gönlüm vazo diyorsun jilet fıstıkçı şehap bahane ciğer twix\", corrected_text)\n",
    "                ro_similarity_ex1.append(ro_similarity)\n",
    "                if ro_similarity_corrected > ro_similarity:\n",
    "                    if show_corrections == True:\n",
    "                        print(recognized_text.lower())\n",
    "                        print(corrected_text)\n",
    "                        print(\"Ratcliff Obershelp Similarity of predicted text = \",round(ro_similarity * 100, 4), \"%\")\n",
    "                        print(\"Ratcliff Obershelp Similarity of corrected text = \",round(ro_similarity_corrected * 100, 4), \"%\")\n",
    "                        print(\"====================================\")\n",
    "                    corrected_ro_similarity_ex1.append(ro_similarity_corrected)\n",
    "                    predicted_strings.append(corrected_text)\n",
    "                else:\n",
    "                    corrected_ro_similarity_ex1.append(ro_similarity)\n",
    "                    predicted_strings.append(recognized_text.lower())\n",
    "            elif index == 2:\n",
    "                confidence_ex2.append(confidence)\n",
    "                ro_similarity = ratcliff_obershelp_similarity(\"sözleşmenin bir örneğini elden teslim aldım\", recognized_text.lower())\n",
    "                ro_similarity_corrected = ratcliff_obershelp_similarity(\"sözleşmenin bir örneğini elden teslim aldım\", corrected_text)\n",
    "                ro_similarity_ex2.append(ro_similarity)\n",
    "                if ro_similarity_corrected > ro_similarity:\n",
    "                    if show_corrections == True:\n",
    "                        print(recognized_text.lower())\n",
    "                        print(corrected_text)\n",
    "                        print(\"Ratcliff Obershelp Similarity of predicted text = \",round(ro_similarity * 100, 4), \"%\")\n",
    "                        print(\"Ratcliff Obershelp Similarity of corrected text = \",round(ro_similarity_corrected * 100, 4), \"%\")\n",
    "                        print(\"====================================\")\n",
    "                    predicted_strings.append(corrected_text)\n",
    "                    corrected_ro_similarity_ex2.append(ro_similarity_corrected)\n",
    "                else:\n",
    "                    predicted_strings.append(recognized_text.lower())\n",
    "                    corrected_ro_similarity_ex2.append(ro_similarity)\n",
    "    ro_similarity_ex1_mean = mean(ro_similarity_ex1)\n",
    "    ro_similarity_ex2_mean = mean(ro_similarity_ex2)\n",
    "    confidence_ex1_mean = mean(confidence_ex1)\n",
    "    confidence_ex2_mean = mean(confidence_ex2)\n",
    "    overall_ro_similarity = mean(ro_similarity_ex1 + ro_similarity_ex2)\n",
    "    overall_corrected_ro_similarity = mean(corrected_ro_similarity_ex1 + corrected_ro_similarity_ex2)\n",
    "    # overall_ro_similarity = (ro_similarity_ex1_mean + ro_similarity_ex2_mean) / 2\n",
    "    overall_confidence = (confidence_ex1_mean + confidence_ex2_mean) / 2\n",
    "    print(\"Overall Ratcliff Obershelp Similarity without AutoCorrection = \", round(overall_ro_similarity * 100, 4), \"%\")\n",
    "    print(\"Overall Ratcliff Obershelp Similarity with AutoCorrection = \", round(overall_corrected_ro_similarity * 100, 4), \"%\")\n",
    "    print(\"Overall Confidence = \", round(overall_confidence * 100, 4), \"%\")\n",
    "    return predicted_strings, overall_ro_similarity, overall_corrected_ro_similarity, ro_similarity_ex1, ro_similarity_ex2, ro_similarity_ex1_mean, ro_similarity_ex2_mean, overall_confidence, confidence_ex1_mean, confidence_ex2_mean"
   ]
  },
  {
   "cell_type": "markdown",
   "metadata": {},
   "source": [
    "### 2.1. The raw model (1.5) for Combination of (Cropped And Resized NIST19 (OpenCV) + Padded T-H-E)"
   ]
  },
  {
   "cell_type": "code",
   "execution_count": 5,
   "metadata": {},
   "outputs": [
    {
     "name": "stdout",
     "output_type": "stream",
     "text": [
      "Overall Ratcliff Obershelp Similarity without AutoCorrection =  61.6618 %\n",
      "Overall Ratcliff Obershelp Similarity with AutoCorrection =  62.2662 %\n",
      "Overall Confidence =  85.2772 %\n"
     ]
    }
   ],
   "source": [
    "model = load_model(\"Models/baseline_model_1_5.h5\")\n",
    "\n",
    "predicted_strings, overall_similarity, overall_corrected_similarity, similarity_ex1, similarity_ex2, similarity_ex1_mean, similarity_ex2_mean, overall_confidence, confidence_ex1_mean, confidence_ex2_mean = test_model(model, show_corrections=False)"
   ]
  },
  {
   "cell_type": "markdown",
   "metadata": {},
   "source": [
    "### 2.2. The random sampled model (2.0.3) for Combination of (Cropped And Resized NIST19 (OpenCV) + Padded T-H-E)"
   ]
  },
  {
   "cell_type": "code",
   "execution_count": 6,
   "metadata": {},
   "outputs": [
    {
     "name": "stdout",
     "output_type": "stream",
     "text": [
      "Overall Ratcliff Obershelp Similarity without AutoCorrection =  61.9574 %\n",
      "Overall Ratcliff Obershelp Similarity with AutoCorrection =  62.8424 %\n",
      "Overall Confidence =  83.9583 %\n"
     ]
    }
   ],
   "source": [
    "model = load_model(\"Models/baseline_model_2_0_3.h5\")\n",
    "\n",
    "predicted_strings, overall_similarity, overall_corrected_similarity, similarity_ex1, similarity_ex2, similarity_ex1_mean, similarity_ex2_mean, overall_confidence, confidence_ex1_mean, confidence_ex2_mean = test_model(model, show_corrections=False)"
   ]
  },
  {
   "cell_type": "markdown",
   "metadata": {},
   "source": [
    "### 2.3. The only random undersampled model (2.1.3) for Combination of (Cropped And Resized NIST19 (OpenCV) + Padded T-H-E)"
   ]
  },
  {
   "cell_type": "code",
   "execution_count": 7,
   "metadata": {},
   "outputs": [
    {
     "name": "stdout",
     "output_type": "stream",
     "text": [
      "Overall Ratcliff Obershelp Similarity without AutoCorrection =  63.3271 %\n",
      "Overall Ratcliff Obershelp Similarity with AutoCorrection =  64.1018 %\n",
      "Overall Confidence =  84.7208 %\n"
     ]
    }
   ],
   "source": [
    "model = load_model(\"Models/baseline_model_2_1_3.h5\")\n",
    "\n",
    "predicted_strings, overall_similarity, overall_corrected_similarity, similarity_ex1, similarity_ex2, similarity_ex1_mean, similarity_ex2_mean, overall_confidence, confidence_ex1_mean, confidence_ex2_mean = test_model(model, show_corrections=False)"
   ]
  }
 ],
 "metadata": {
  "interpreter": {
   "hash": "25bbadcf8d4e2dbeb4c1e036bfb02ed960527d2f42316fb6b1dd3a2d013d4f0d"
  },
  "kernelspec": {
   "display_name": "Python 3.8.3 ('base')",
   "language": "python",
   "name": "python3"
  },
  "language_info": {
   "codemirror_mode": {
    "name": "ipython",
    "version": 3
   },
   "file_extension": ".py",
   "mimetype": "text/x-python",
   "name": "python",
   "nbconvert_exporter": "python",
   "pygments_lexer": "ipython3",
   "version": "3.8.3"
  },
  "orig_nbformat": 4
 },
 "nbformat": 4,
 "nbformat_minor": 2
}
