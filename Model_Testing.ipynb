{
 "cells": [
  {
   "cell_type": "markdown",
   "metadata": {},
   "source": [
    "<div align=\"center\">\n",
    "\n",
    "<p align=\"center\">\n",
    "    <img\n",
    "        src=\"./Assets/Turkaracter Logo.png\"\n",
    "        raw=true\n",
    "        alt=\"turkaracter_Logo\"\n",
    "        style=\"width: 128px; height: 128px\" />\n",
    "</p>\n",
    "\n",
    "# TurKaracter: Entwicklung eines Erkennungssystems von türkischen Handschriften unter Verwendung von künstlichen neuronalen Netzwerken\n",
    "### Bachelor Abschlussarbeit von Abdurrahman ODABAŞI\n",
    "### Betreuer: Dr. Ahmet YILDIZ (Türkisch-Deutsche Universität)\n",
    "### Industriepartner: BIS Çözüm Bilgisayar ve Entegrasyon Hiz. ve Tic. A.Ş.\n",
    "#### Bearbeitungszeitraum 04.11.2021 - 20.06.2022\n",
    "\n",
    "</div>"
   ]
  },
  {
   "cell_type": "markdown",
   "metadata": {},
   "source": [
    "## 0. Imports & Setup"
   ]
  },
  {
   "cell_type": "code",
   "execution_count": 1,
   "metadata": {},
   "outputs": [],
   "source": [
    "import numpy as np\n",
    "import os\n",
    "import cv2\n",
    "from keras.models import load_model\n",
    "from statistics import mean"
   ]
  },
  {
   "cell_type": "code",
   "execution_count": 2,
   "metadata": {},
   "outputs": [],
   "source": [
    "from ImageProcessingMethods import grayscale, invert, binarize, segment_to_lines, segment_to_words, segment_to_chars, repairShapeOfCharacter, add_borders\n",
    "\n",
    "from InferenceMethods import segmentTextToChars, predictText, decodeLabel, autoCorrectText"
   ]
  },
  {
   "cell_type": "markdown",
   "metadata": {},
   "source": [
    "## 1. Similarity Metrics"
   ]
  },
  {
   "cell_type": "code",
   "execution_count": 3,
   "metadata": {},
   "outputs": [],
   "source": [
    "from textdistance import hamming, levenshtein, jaro_winkler, ratcliff_obershelp\n",
    "\n",
    "def hamming_similarity(a, b):\n",
    "    return hamming.normalized_similarity(a, b)\n",
    "\n",
    "def levenshtein_similarity(a, b):\n",
    "    return levenshtein.normalized_similarity(a, b)\n",
    "\n",
    "def jaro_winkler_similarity(a, b):\n",
    "    return jaro_winkler(a, b)\n",
    "\n",
    "def ratcliff_obershelp_similarity(a, b):\n",
    "    return ratcliff_obershelp(a, b)"
   ]
  },
  {
   "cell_type": "markdown",
   "metadata": {},
   "source": [
    "## 2. Testing the models with realistic Test Set"
   ]
  },
  {
   "cell_type": "code",
   "execution_count": 12,
   "metadata": {},
   "outputs": [],
   "source": [
    "def test_model(model, verbose=0):\n",
    "    ro_similarity_ex1 = []\n",
    "    confidence_ex1 = []\n",
    "    ro_similarity_ex2 = []\n",
    "    confidence_ex2 = []\n",
    "    predicted_strings = []\n",
    "    for index in range(1,3,1):\n",
    "    #setting the path to the directory containing the pics\n",
    "        path = f\"./Actual Testset/{index}/\"\n",
    "\n",
    "        for img in os.listdir(path):\n",
    "            pic = cv2.imread(os.path.join(path,img))\n",
    "            allChars = segmentTextToChars(pic, verbose=verbose)\n",
    "            recognized_text, confidence = predictText(allChars, model, show_top_k=False, k=2)\n",
    "            recognized_text = recognized_text.strip()\n",
    "            corrected_text = autoCorrectText(recognized_text.lower())\n",
    "            if index == 1:\n",
    "                confidence_ex1.append(confidence)\n",
    "                ro_similarity = ratcliff_obershelp_similarity(\"gönlüm vazo diyorsun jilet fıstıkçı şehap bahane ciğer twix\", recognized_text.lower())\n",
    "                ro_similarity_corrected = ratcliff_obershelp_similarity(\"gönlüm vazo diyorsun jilet fıstıkçı şehap bahane ciğer twix\", corrected_text)\n",
    "                if ro_similarity_corrected > ro_similarity:\n",
    "                    print(recognized_text.lower())\n",
    "                    print(corrected_text)\n",
    "                    print(\"Ratcliff Obershelp Similarity of predicted text = \",round(ro_similarity * 100, 4), \"%\")\n",
    "                    print(\"Ratcliff Obershelp Similarity of corrected text = \",round(ro_similarity_corrected * 100, 4), \"%\")\n",
    "                    print(\"====================================\")\n",
    "                    predicted_strings.append(corrected_text)\n",
    "                    ro_similarity_ex1.append(ro_similarity_corrected)\n",
    "                else:\n",
    "                    predicted_strings.append(recognized_text.lower())\n",
    "                    ro_similarity_ex1.append(ro_similarity)\n",
    "            elif index == 2:\n",
    "                confidence_ex2.append(confidence)\n",
    "                ro_similarity = ratcliff_obershelp_similarity(\"sözleşmenin bir örneğini elden teslim aldım\", recognized_text.lower())\n",
    "                ro_similarity_corrected = ratcliff_obershelp_similarity(\"sözleşmenin bir örneğini elden teslim aldım\", corrected_text)\n",
    "                if ro_similarity_corrected > ro_similarity:\n",
    "                    print(recognized_text.lower())\n",
    "                    print(corrected_text)\n",
    "                    print(\"Ratcliff Obershelp Similarity of predicted text = \",round(ro_similarity * 100, 4), \"%\")\n",
    "                    print(\"Ratcliff Obershelp Similarity of corrected text = \",round(ro_similarity_corrected * 100, 4), \"%\")\n",
    "                    print(\"====================================\")\n",
    "                    predicted_strings.append(corrected_text)\n",
    "                    ro_similarity_ex2.append(ro_similarity_corrected)\n",
    "                else:\n",
    "                    predicted_strings.append(recognized_text.lower())\n",
    "                    ro_similarity_ex2.append(ro_similarity)\n",
    "    ro_similarity_ex1_mean = mean(ro_similarity_ex1)\n",
    "    ro_similarity_ex2_mean = mean(ro_similarity_ex2)\n",
    "    confidence_ex1_mean = mean(confidence_ex1)\n",
    "    confidence_ex2_mean = mean(confidence_ex2)\n",
    "    overall_ro_similarity = (ro_similarity_ex1_mean + ro_similarity_ex2_mean) / 2\n",
    "    overall_confidence = (confidence_ex1_mean + confidence_ex2_mean) / 2\n",
    "    print(\"Overall Ratcliff Obershelp Similarity = \", round(overall_ro_similarity * 100, 4), \"%\")\n",
    "    print(\"Overall Confidence = \", round(overall_confidence * 100, 4), \"%\")\n",
    "    return predicted_strings, overall_ro_similarity, ro_similarity_ex1, ro_similarity_ex2, ro_similarity_ex1_mean, ro_similarity_ex2_mean, overall_confidence, confidence_ex1_mean, confidence_ex2_mean"
   ]
  },
  {
   "cell_type": "code",
   "execution_count": null,
   "metadata": {},
   "outputs": [],
   "source": [
    "# model = load_model(\"Models/baseline_model****.h5\")\n",
    "\n",
    "# predicted_strings, overall_similarity, similarity_ex1, similarity_ex2, similarity_ex1_mean, similarity_ex2_mean, overall_confidence, confidence_ex1_mean, confidence_ex2_mean = test_model(model)"
   ]
  }
 ],
 "metadata": {
  "interpreter": {
   "hash": "25bbadcf8d4e2dbeb4c1e036bfb02ed960527d2f42316fb6b1dd3a2d013d4f0d"
  },
  "kernelspec": {
   "display_name": "Python 3.8.3 ('base')",
   "language": "python",
   "name": "python3"
  },
  "language_info": {
   "codemirror_mode": {
    "name": "ipython",
    "version": 3
   },
   "file_extension": ".py",
   "mimetype": "text/x-python",
   "name": "python",
   "nbconvert_exporter": "python",
   "pygments_lexer": "ipython3",
   "version": "3.8.3"
  },
  "orig_nbformat": 4
 },
 "nbformat": 4,
 "nbformat_minor": 2
}
